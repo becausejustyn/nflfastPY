{
 "cells": [
  {
   "cell_type": "code",
   "execution_count": null,
   "metadata": {},
   "outputs": [],
   "source": [
    "import pandas as pd\n",
    "import numpy as np\n",
    "import scipy.stats as stats\n",
    "import pymc3 as pm\n",
    "from IPython.display import HTML\n",
    "import matplotlib.pyplot as plt\n",
    "%matplotlib inline\n",
    "plt.style.use('fivethirtyeight')\n",
    "from IPython.core.pylabtools import figsize\n",
    "import warnings\n",
    "warnings.simplefilter(action='ignore', category=FutureWarning)"
   ]
  },
  {
   "cell_type": "markdown",
   "metadata": {},
   "source": [
    "P(model | data) = \\frac{P(data | model)}{P(data)} P(model)\n",
    "\n",
    "prior = P(model)\n",
    "\n",
    "The prior is our belief in the model given no additional information. \n",
    "\n",
    "likelihood = P(data | model)\n",
    "\n",
    "The likelihood is the probability of the data we observed occurring given the model.\n",
    "\n",
    "marginal probability of data = P(data)\n",
    "\n",
    "The marginal probability of the data is the probability that our data are observed regardless of what model we choose or believe in.\n",
    "\n",
    "posterior = P(model | data)\n",
    "\n",
    "The posterior is our updated belief in the model given the new data we have observed. Bayesian statistics are all about updating a prior belief we have about the world with new data, so we're transforming our prior belief into this new posterior belief about the world.\n"
   ]
  },
  {
   "cell_type": "code",
   "execution_count": null,
   "metadata": {},
   "outputs": [],
   "source": [
    "def occurrences(year, kd=True):\n",
    "    '''occurences(2019, kd=True)\n",
    "    By default, kd=True means with KD healthy'''\n",
    "    # clean data\n",
    "    # regular season\n",
    "    data = pd.read_csv(f'./data/ab/{year}.txt', sep=',')\n",
    "    new_columns = ['Rk', 'G', 'Date', 'Age', 'Tm', 'Away', 'Opp', 'Result', 'GS',\n",
    "       'MP', 'FG', 'FGA', 'FG%', '3P', '3PA', '3P%', 'FT', 'FTA', 'FT%', 'ORB',\n",
    "       'DRB', 'TRB', 'AST', 'STL', 'BLK', 'TOV', 'PF', 'PTS', 'GmSc', '+/-']\n",
    "    data.columns=new_columns\n",
    "    # replace did not dress with inactive\n",
    "    data.GS = np.where(data.GS == 'Did Not Dress','Inactive',data.GS)\n",
    "    if kd == False:\n",
    "        game_logs = list(data[data.GS=='Inactive'].Result)\n",
    "    else:\n",
    "        game_logs = list(data[data.GS!='Inactive'].Result)\n",
    "    results = [game.split(' ')[0] for game in game_logs]\n",
    "    occurrences = [1 if result == 'W' else 0 for result in results]\n",
    "    return occurrences"
   ]
  },
  {
   "cell_type": "code",
   "execution_count": null,
   "metadata": {},
   "outputs": [],
   "source": [
    "regular_season_with_kd = occurrences(2019, kd=True)+occurrences(2018, kd=True)+occurrences(2017, kd=True)\n",
    "regular_season_no_kd = occurrences(2019, kd=False)+occurrences(2018, kd=False)+occurrences(2017, kd=False)\n",
    "print(f'Observed win % when Kevin Durant plays: {round(np.mean(regular_season_with_kd),4)}')\n",
    "print(f'Observed win % when Kevin Durant does not play: {round(np.mean(regular_season_no_kd),4)}')"
   ]
  },
  {
   "cell_type": "code",
   "execution_count": null,
   "metadata": {},
   "outputs": [],
   "source": [
    "# Instantiate\n",
    "observations_A = regular_season_with_kd\n",
    "observations_B = regular_season_no_kd\n",
    "\n",
    "with pm.Model() as model:\n",
    "    # Assume Uniform priors for p_A and p_B    \n",
    "    p_A = pm.Uniform(\"p_A\", 0.5, .9)\n",
    "    p_B = pm.Uniform(\"p_B\", 0.5, .9)\n",
    "\n",
    "    # Define the deterministic delta function. This is our unknown of interest.\n",
    "    # Delta is deterministic, no uncertainty beyond p_A and p_B\n",
    "    delta = pm.Deterministic(\"delta\", p_A - p_B)\n",
    "\n",
    "    # We have two observation datasets: A, B\n",
    "    # Posterior distribution is Bernoulli\n",
    "    obs_A = pm.Bernoulli(\"obs_A\", p_A, observed=observations_A)\n",
    "    obs_B = pm.Bernoulli(\"obs_B\", p_B, observed=observations_B)\n",
    "\n",
    "    # Draw samples from the posterior distribution\n",
    "    trace = pm.sample(20000)\n",
    "    burned_trace=trace[1000:]"
   ]
  },
  {
   "cell_type": "code",
   "execution_count": null,
   "metadata": {},
   "outputs": [],
   "source": [
    "df = pm.summary(burned_trace).round(2)[['mean', 'sd', 'hpd_2.5', 'hpd_97.5']]\n",
    "HTML(df.to_html(classes=\"table table-responsive table-striped table-bordered\"))"
   ]
  },
  {
   "cell_type": "code",
   "execution_count": null,
   "metadata": {},
   "outputs": [],
   "source": [
    "#Unlike with confidence intervals (frequentist), there is a measure of probability with the credible interval.\n",
    "#There is a 95% probability that the true win rate with KD is in the interval (0.68, 0.79).\n",
    "#There is a 95% probability that the true win rate with no KD is in the interval (0.59, 0.85).\n",
    "\n",
    "# Count the number of samples less than 0, i.e. the area under the curve\n",
    "print(\"Probability that GSW is worse with Kevin Durant in the regular season: %.2f\" % \\\n",
    "    np.mean(delta_samples < 0))\n",
    "\n",
    "print(\"Probability that GSW is better with Kevin Durant in the regular season: %.2f\" % \\\n",
    "    np.mean(delta_samples > 0))"
   ]
  },
  {
   "cell_type": "code",
   "execution_count": null,
   "metadata": {},
   "outputs": [],
   "source": []
  }
 ],
 "metadata": {
  "kernelspec": {
   "display_name": "Python 3.9.13 64-bit",
   "language": "python",
   "name": "python3"
  },
  "language_info": {
   "name": "python",
   "version": "3.9.13"
  },
  "orig_nbformat": 4,
  "vscode": {
   "interpreter": {
    "hash": "397704579725e15f5c7cb49fe5f0341eb7531c82d19f2c29d197e8b64ab5776b"
   }
  }
 },
 "nbformat": 4,
 "nbformat_minor": 2
}
