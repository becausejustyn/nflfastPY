{
 "cells": [
  {
   "cell_type": "code",
   "execution_count": 1,
   "metadata": {},
   "outputs": [],
   "source": [
    "# https://garrrychan.github.io/blog/nba_elo.html\n",
    "import pandas as pd\n",
    "import numpy as np\n",
    "\n",
    "import matplotlib.pyplot as plt\n",
    "%matplotlib inline\n",
    "plt.style.use('fivethirtyeight')\n",
    "%config InlineBackend.figure_format = 'svg'\n",
    "\n",
    "import altair as alt\n",
    "alt.renderers.enable('notebook')\n",
    "\n",
    "from sklearn.metrics import accuracy_score, brier_score_loss\n",
    "# scientific notation off\n",
    "np.set_printoptions(suppress=True)\n",
    "pd.options.display.float_format = '{:.2f}'.format\n",
    "\n",
    "# blog html visualization \n",
    "from IPython.display import HTML\n",
    "# supress warnings for blog\n",
    "import warnings\n",
    "warnings.simplefilter(action='ignore', category=FutureWarning)"
   ]
  },
  {
   "cell_type": "code",
   "execution_count": null,
   "metadata": {},
   "outputs": [],
   "source": [
    "# https://github.com/fivethirtyeight/data/tree/master/nba-elo\n",
    "url = 'https://raw.githubusercontent.com/fivethirtyeight/data/master/nba-elo/nbaallelo.csv'"
   ]
  },
  {
   "cell_type": "code",
   "execution_count": 2,
   "metadata": {},
   "outputs": [
    {
     "data": {
      "text/html": [
       "<div>\n",
       "<style scoped>\n",
       "    .dataframe tbody tr th:only-of-type {\n",
       "        vertical-align: middle;\n",
       "    }\n",
       "\n",
       "    .dataframe tbody tr th {\n",
       "        vertical-align: top;\n",
       "    }\n",
       "\n",
       "    .dataframe thead th {\n",
       "        text-align: right;\n",
       "    }\n",
       "</style>\n",
       "<table border=\"1\" class=\"dataframe\">\n",
       "  <thead>\n",
       "    <tr style=\"text-align: right;\">\n",
       "      <th></th>\n",
       "      <th>gameorder</th>\n",
       "      <th>game_id</th>\n",
       "      <th>lg_id</th>\n",
       "      <th>_iscopy</th>\n",
       "      <th>year_id</th>\n",
       "      <th>date_game</th>\n",
       "      <th>seasongame</th>\n",
       "      <th>is_playoffs</th>\n",
       "      <th>team_id</th>\n",
       "      <th>fran_id</th>\n",
       "      <th>...</th>\n",
       "      <th>win_equiv</th>\n",
       "      <th>opp_id</th>\n",
       "      <th>opp_fran</th>\n",
       "      <th>opp_pts</th>\n",
       "      <th>opp_elo_i</th>\n",
       "      <th>opp_elo_n</th>\n",
       "      <th>game_location</th>\n",
       "      <th>game_result</th>\n",
       "      <th>forecast</th>\n",
       "      <th>notes</th>\n",
       "    </tr>\n",
       "  </thead>\n",
       "  <tbody>\n",
       "    <tr>\n",
       "      <th>0</th>\n",
       "      <td>1</td>\n",
       "      <td>194611010TRH</td>\n",
       "      <td>NBA</td>\n",
       "      <td>0</td>\n",
       "      <td>1947</td>\n",
       "      <td>11/1/1946</td>\n",
       "      <td>1</td>\n",
       "      <td>0</td>\n",
       "      <td>TRH</td>\n",
       "      <td>Huskies</td>\n",
       "      <td>...</td>\n",
       "      <td>40.29</td>\n",
       "      <td>NYK</td>\n",
       "      <td>Knicks</td>\n",
       "      <td>68</td>\n",
       "      <td>1300.00</td>\n",
       "      <td>1306.72</td>\n",
       "      <td>H</td>\n",
       "      <td>L</td>\n",
       "      <td>0.64</td>\n",
       "      <td>NaN</td>\n",
       "    </tr>\n",
       "    <tr>\n",
       "      <th>1</th>\n",
       "      <td>1</td>\n",
       "      <td>194611010TRH</td>\n",
       "      <td>NBA</td>\n",
       "      <td>1</td>\n",
       "      <td>1947</td>\n",
       "      <td>11/1/1946</td>\n",
       "      <td>1</td>\n",
       "      <td>0</td>\n",
       "      <td>NYK</td>\n",
       "      <td>Knicks</td>\n",
       "      <td>...</td>\n",
       "      <td>41.71</td>\n",
       "      <td>TRH</td>\n",
       "      <td>Huskies</td>\n",
       "      <td>66</td>\n",
       "      <td>1300.00</td>\n",
       "      <td>1293.28</td>\n",
       "      <td>A</td>\n",
       "      <td>W</td>\n",
       "      <td>0.36</td>\n",
       "      <td>NaN</td>\n",
       "    </tr>\n",
       "    <tr>\n",
       "      <th>2</th>\n",
       "      <td>2</td>\n",
       "      <td>194611020CHS</td>\n",
       "      <td>NBA</td>\n",
       "      <td>0</td>\n",
       "      <td>1947</td>\n",
       "      <td>11/2/1946</td>\n",
       "      <td>1</td>\n",
       "      <td>0</td>\n",
       "      <td>CHS</td>\n",
       "      <td>Stags</td>\n",
       "      <td>...</td>\n",
       "      <td>42.01</td>\n",
       "      <td>NYK</td>\n",
       "      <td>Knicks</td>\n",
       "      <td>47</td>\n",
       "      <td>1306.72</td>\n",
       "      <td>1297.07</td>\n",
       "      <td>H</td>\n",
       "      <td>W</td>\n",
       "      <td>0.63</td>\n",
       "      <td>NaN</td>\n",
       "    </tr>\n",
       "    <tr>\n",
       "      <th>3</th>\n",
       "      <td>2</td>\n",
       "      <td>194611020CHS</td>\n",
       "      <td>NBA</td>\n",
       "      <td>1</td>\n",
       "      <td>1947</td>\n",
       "      <td>11/2/1946</td>\n",
       "      <td>2</td>\n",
       "      <td>0</td>\n",
       "      <td>NYK</td>\n",
       "      <td>Knicks</td>\n",
       "      <td>...</td>\n",
       "      <td>40.69</td>\n",
       "      <td>CHS</td>\n",
       "      <td>Stags</td>\n",
       "      <td>63</td>\n",
       "      <td>1300.00</td>\n",
       "      <td>1309.65</td>\n",
       "      <td>A</td>\n",
       "      <td>L</td>\n",
       "      <td>0.37</td>\n",
       "      <td>NaN</td>\n",
       "    </tr>\n",
       "    <tr>\n",
       "      <th>4</th>\n",
       "      <td>3</td>\n",
       "      <td>194611020DTF</td>\n",
       "      <td>NBA</td>\n",
       "      <td>0</td>\n",
       "      <td>1947</td>\n",
       "      <td>11/2/1946</td>\n",
       "      <td>1</td>\n",
       "      <td>0</td>\n",
       "      <td>DTF</td>\n",
       "      <td>Falcons</td>\n",
       "      <td>...</td>\n",
       "      <td>38.86</td>\n",
       "      <td>WSC</td>\n",
       "      <td>Capitols</td>\n",
       "      <td>50</td>\n",
       "      <td>1300.00</td>\n",
       "      <td>1320.38</td>\n",
       "      <td>H</td>\n",
       "      <td>L</td>\n",
       "      <td>0.64</td>\n",
       "      <td>NaN</td>\n",
       "    </tr>\n",
       "  </tbody>\n",
       "</table>\n",
       "<p>5 rows × 23 columns</p>\n",
       "</div>"
      ],
      "text/plain": [
       "   gameorder       game_id lg_id  _iscopy  year_id  date_game  seasongame  \\\n",
       "0          1  194611010TRH   NBA        0     1947  11/1/1946           1   \n",
       "1          1  194611010TRH   NBA        1     1947  11/1/1946           1   \n",
       "2          2  194611020CHS   NBA        0     1947  11/2/1946           1   \n",
       "3          2  194611020CHS   NBA        1     1947  11/2/1946           2   \n",
       "4          3  194611020DTF   NBA        0     1947  11/2/1946           1   \n",
       "\n",
       "   is_playoffs team_id  fran_id  ...  win_equiv  opp_id  opp_fran  opp_pts  \\\n",
       "0            0     TRH  Huskies  ...      40.29     NYK    Knicks       68   \n",
       "1            0     NYK   Knicks  ...      41.71     TRH   Huskies       66   \n",
       "2            0     CHS    Stags  ...      42.01     NYK    Knicks       47   \n",
       "3            0     NYK   Knicks  ...      40.69     CHS     Stags       63   \n",
       "4            0     DTF  Falcons  ...      38.86     WSC  Capitols       50   \n",
       "\n",
       "  opp_elo_i opp_elo_n  game_location  game_result  forecast notes  \n",
       "0   1300.00   1306.72              H            L      0.64   NaN  \n",
       "1   1300.00   1293.28              A            W      0.36   NaN  \n",
       "2   1306.72   1297.07              H            W      0.63   NaN  \n",
       "3   1300.00   1309.65              A            L      0.37   NaN  \n",
       "4   1300.00   1320.38              H            L      0.64   NaN  \n",
       "\n",
       "[5 rows x 23 columns]"
      ]
     },
     "execution_count": 2,
     "metadata": {},
     "output_type": "execute_result"
    }
   ],
   "source": [
    "df = pd.read_csv('https://raw.githubusercontent.com/fivethirtyeight/data/master/nba-elo/nbaallelo.csv')\n",
    "df.head()"
   ]
  },
  {
   "cell_type": "code",
   "execution_count": 3,
   "metadata": {},
   "outputs": [
    {
     "data": {
      "text/plain": [
       "Index(['gameorder', 'game_id', 'lg_id', '_iscopy', 'year_id', 'date_game',\n",
       "       'seasongame', 'is_playoffs', 'team_id', 'fran_id', 'pts', 'elo_i',\n",
       "       'elo_n', 'win_equiv', 'opp_id', 'opp_fran', 'opp_pts', 'opp_elo_i',\n",
       "       'opp_elo_n', 'game_location', 'game_result', 'forecast', 'notes'],\n",
       "      dtype='object')"
      ]
     },
     "execution_count": 3,
     "metadata": {},
     "output_type": "execute_result"
    }
   ],
   "source": [
    "df.columns"
   ]
  },
  {
   "cell_type": "code",
   "execution_count": null,
   "metadata": {},
   "outputs": [],
   "source": [
    "# Let's create a class to define a function, prob, to calculate the probability of a team winning based on elo,\n",
    "# # and define another function, update, to update the Elo after the outcome of the game.\n",
    "\n",
    "class EloTracker:\n",
    "    def __init__(self, data, start=1500):\n",
    "        if isinstance(data, dict):\n",
    "            self.data = data\n",
    "        if isinstance(data, list):\n",
    "            self.data = {i: start for i in data}\n",
    "\n",
    "    # this is the probability of the home team winning\n",
    "    def prob(self, home, away):\n",
    "        home_elo, away_elo = self.data[home], self.data[away]\n",
    "        expected_home = 1 / ( 1 + 10**((away_elo - home_elo)/400))\n",
    "        expected_away = 1 - expected_home\n",
    "        return expected_home, expected_away\n",
    "\n",
    "    # update the elo scores\n",
    "    def update(self, winner, loser, k=20):\n",
    "        expected_winner, expected_loser = self.prob(winner, loser)\n",
    "        self.data[winner] = round(self.data[winner] + k*(1 - expected_winner))\n",
    "        self.data[loser] = round(self.data[loser] + k*(0 - expected_loser))\n",
    "        return self.data\n",
    "\n",
    "    def __repr__(self):\n",
    "        return f'EloTracker({self.data})'"
   ]
  },
  {
   "cell_type": "code",
   "execution_count": null,
   "metadata": {},
   "outputs": [],
   "source": [
    "# instantiate all teams at 1500 elo at the beginning of the season\n",
    "teams = ['Toronto', 'Boston']\n",
    "elo = EloTracker(teams)\n",
    "elo.data"
   ]
  },
  {
   "cell_type": "code",
   "execution_count": null,
   "metadata": {},
   "outputs": [],
   "source": [
    "# By definition, teams with the same elo are equally likely to win.\n",
    "elo.prob('Toronto', 'Boston')"
   ]
  },
  {
   "cell_type": "code",
   "execution_count": null,
   "metadata": {},
   "outputs": [],
   "source": [
    "# Toronto beats Boston\n",
    "# Update elo\n",
    "elo.update('Toronto', 'Boston')\n",
    "# Toronto gained 10 elo, and Boston lost 10, since this is a zero sum paradigm"
   ]
  },
  {
   "cell_type": "code",
   "execution_count": null,
   "metadata": {},
   "outputs": [],
   "source": [
    "# Fast forward to the end of the season\n",
    "\n",
    "# End of season, let's assume these elo scores\n",
    "teams = {'Toronto': 1750, 'Boston': 1500, 'Cleveland': 1250}\n",
    "elo = EloTracker(teams)\n",
    "elo.data\n",
    "toronto_elo_before = elo.data[\"Toronto\"]\n",
    "elo.update(\"Toronto\", \"Cleveland\")\n",
    "toronto_elo_after = elo.data[\"Toronto\"]\n",
    "\n",
    "print(f' Toronto gained {toronto_elo_after - toronto_elo_before} elo points')\n",
    "# Because Toronto won against a worst team, they only gained 1 elo points."
   ]
  },
  {
   "cell_type": "code",
   "execution_count": null,
   "metadata": {},
   "outputs": [],
   "source": [
    "# Toronto is favoured since it has a higher elo score. \n",
    "# But, what if Toronto lost?\n",
    "teams = {'Toronto': 1750, 'Boston': 1500, 'Cleveland': 1250}\n",
    "elo = EloTracker(teams)\n",
    "elo.data\n",
    "toronto_elo_before = elo.data[\"Toronto\"]\n",
    "elo.update(\"Cleveland\",\"Toronto\")\n",
    "toronto_elo_after = elo.data[\"Toronto\"]\n",
    "\n",
    "print(f' Toronto gained {toronto_elo_after - toronto_elo_before} elo points')\n",
    "# Because Toronto lost to a worse team, they lost 19 elo points! They were expected to win!"
   ]
  },
  {
   "cell_type": "code",
   "execution_count": null,
   "metadata": {},
   "outputs": [],
   "source": []
  },
  {
   "cell_type": "code",
   "execution_count": null,
   "metadata": {},
   "outputs": [],
   "source": []
  },
  {
   "cell_type": "code",
   "execution_count": 5,
   "metadata": {},
   "outputs": [],
   "source": [
    "# 2014-2015, regular season, home games only, no duplicate record\n",
    "df = df.query(\"year_id==2015 & is_playoffs == 0 & _iscopy == 0\")\n",
    "\n",
    "# obtain columns of interest\n",
    "df = df[['date_game','fran_id', 'pts', 'elo_i', 'opp_fran', 'opp_pts', 'opp_elo_i', 'game_result']].reset_index()\n",
    "\n",
    "# rename columns\n",
    "df = df.rename(columns={\n",
    "    'date_game':'date',\n",
    "    \"fran_id\":\"home\",\n",
    "    \"pts\": \"pts_home\",\n",
    "    \"elo_i\": \"home_elo\",\n",
    "    \"opp_fran\":\"visitor\",\n",
    "    \"opp_pts\":\"pts_visitor\",\n",
    "    \"opp_elo_i\":\"visitor_elo\",\n",
    "})\n",
    "\n",
    "df[\"winner\"] = df.apply(lambda row: row.home if row.game_result == \"W\" else row.visitor, axis=1)\n",
    "\n",
    "df = df.drop([\"index\",\"game_result\"],axis=1)\n",
    "\n",
    "df['date'] = pd.to_datetime(df['date'])\n",
    "# 1230 games played in 2014-2015\n",
    "# 30 teams played x 41 home games each "
   ]
  },
  {
   "cell_type": "code",
   "execution_count": 8,
   "metadata": {},
   "outputs": [
    {
     "data": {
      "text/html": [
       "<table border=\"1\" class=\"dataframe table table-responsive table-striped table-bordered\">\n",
       "  <thead>\n",
       "    <tr style=\"text-align: right;\">\n",
       "      <th></th>\n",
       "      <th>date</th>\n",
       "      <th>home</th>\n",
       "      <th>pts_home</th>\n",
       "      <th>home_elo</th>\n",
       "      <th>visitor</th>\n",
       "      <th>pts_visitor</th>\n",
       "      <th>visitor_elo</th>\n",
       "      <th>winner</th>\n",
       "    </tr>\n",
       "  </thead>\n",
       "  <tbody>\n",
       "    <tr>\n",
       "      <th>0</th>\n",
       "      <td>2014-10-28</td>\n",
       "      <td>Lakers</td>\n",
       "      <td>90</td>\n",
       "      <td>1422.00</td>\n",
       "      <td>Rockets</td>\n",
       "      <td>108</td>\n",
       "      <td>1596.46</td>\n",
       "      <td>Rockets</td>\n",
       "    </tr>\n",
       "    <tr>\n",
       "      <th>1</th>\n",
       "      <td>2014-10-28</td>\n",
       "      <td>Pelicans</td>\n",
       "      <td>101</td>\n",
       "      <td>1457.22</td>\n",
       "      <td>Magic</td>\n",
       "      <td>84</td>\n",
       "      <td>1359.43</td>\n",
       "      <td>Pelicans</td>\n",
       "    </tr>\n",
       "    <tr>\n",
       "      <th>2</th>\n",
       "      <td>2014-10-28</td>\n",
       "      <td>Spurs</td>\n",
       "      <td>101</td>\n",
       "      <td>1699.50</td>\n",
       "      <td>Mavericks</td>\n",
       "      <td>100</td>\n",
       "      <td>1592.01</td>\n",
       "      <td>Spurs</td>\n",
       "    </tr>\n",
       "    <tr>\n",
       "      <th>3</th>\n",
       "      <td>2014-10-29</td>\n",
       "      <td>Celtics</td>\n",
       "      <td>121</td>\n",
       "      <td>1378.55</td>\n",
       "      <td>Nets</td>\n",
       "      <td>105</td>\n",
       "      <td>1518.27</td>\n",
       "      <td>Celtics</td>\n",
       "    </tr>\n",
       "    <tr>\n",
       "      <th>4</th>\n",
       "      <td>2014-10-29</td>\n",
       "      <td>Hornets</td>\n",
       "      <td>108</td>\n",
       "      <td>1511.00</td>\n",
       "      <td>Bucks</td>\n",
       "      <td>106</td>\n",
       "      <td>1317.85</td>\n",
       "      <td>Hornets</td>\n",
       "    </tr>\n",
       "  </tbody>\n",
       "</table>"
      ],
      "text/plain": [
       "<IPython.core.display.HTML object>"
      ]
     },
     "execution_count": 8,
     "metadata": {},
     "output_type": "execute_result"
    }
   ],
   "source": [
    "HTML(df.head().to_html(classes=\"table table-responsive table-striped table-bordered\"))"
   ]
  },
  {
   "cell_type": "code",
   "execution_count": 9,
   "metadata": {},
   "outputs": [
    {
     "data": {
      "text/plain": [
       "array(['Lakers', 'Pelicans', 'Spurs', 'Celtics', 'Hornets', 'Nuggets',\n",
       "       'Pacers', 'Grizzlies', 'Heat', 'Knicks', 'Suns', 'Trailblazers',\n",
       "       'Kings', 'Raptors', 'Jazz', 'Cavaliers', 'Mavericks', 'Clippers',\n",
       "       'Timberwolves', 'Magic', 'Bulls', 'Bucks', 'Hawks', 'Pistons',\n",
       "       'Warriors', 'Rockets', 'Thunder', 'Sixers', 'Wizards', 'Nets'],\n",
       "      dtype=object)"
      ]
     },
     "execution_count": 9,
     "metadata": {},
     "output_type": "execute_result"
    }
   ],
   "source": [
    "df.home.unique()"
   ]
  },
  {
   "cell_type": "code",
   "execution_count": 11,
   "metadata": {},
   "outputs": [
    {
     "data": {
      "image/svg+xml": "<?xml version=\"1.0\" encoding=\"utf-8\" standalone=\"no\"?>\n<!DOCTYPE svg PUBLIC \"-//W3C//DTD SVG 1.1//EN\"\n  \"http://www.w3.org/Graphics/SVG/1.1/DTD/svg11.dtd\">\n<svg height=\"214.200938pt\" version=\"1.1\" viewBox=\"0 0 414.1 214.200938\" width=\"414.1pt\" xmlns=\"http://www.w3.org/2000/svg\" xmlns:xlink=\"http://www.w3.org/1999/xlink\">\n <metadata>\n  <rdf:RDF xmlns:cc=\"http://creativecommons.org/ns#\" xmlns:dc=\"http://purl.org/dc/elements/1.1/\" xmlns:rdf=\"http://www.w3.org/1999/02/22-rdf-syntax-ns#\">\n   <cc:Work>\n    <dc:type rdf:resource=\"http://purl.org/dc/dcmitype/StillImage\"/>\n    <dc:date>2022-09-06T11:13:41.937645</dc:date>\n    <dc:format>image/svg+xml</dc:format>\n    <dc:creator>\n     <cc:Agent>\n      <dc:title>Matplotlib v3.4.3, https://matplotlib.org/</dc:title>\n     </cc:Agent>\n    </dc:creator>\n   </cc:Work>\n  </rdf:RDF>\n </metadata>\n <defs>\n  <style type=\"text/css\">*{stroke-linecap:butt;stroke-linejoin:round;}</style>\n </defs>\n <g id=\"figure_1\">\n  <g id=\"patch_1\">\n   <path d=\"M 0 214.200938 \nL 414.1 214.200938 \nL 414.1 0 \nL 0 0 \nz\n\" style=\"fill:#f0f0f0;\"/>\n  </g>\n  <g id=\"axes_1\">\n   <g id=\"patch_2\">\n    <path d=\"M 31.06 195.758438 \nL 201.896364 195.758438 \nL 201.896364 20.798438 \nL 31.06 20.798438 \nz\n\" style=\"fill:#f0f0f0;\"/>\n   </g>\n   <g id=\"matplotlib.axis_1\">\n    <g id=\"xtick_1\">\n     <g id=\"line2d_1\">\n      <path clip-path=\"url(#p32f70d4509)\" d=\"M 41.598607 195.758438 \nL 41.598607 20.798438 \n\" style=\"fill:none;stroke:#808080;stroke-opacity:0.5;stroke-width:0.25;\"/>\n     </g>\n     <g id=\"line2d_2\"/>\n     <g id=\"text_1\">\n      <!-- Nov -->\n      <g transform=\"translate(33.791107 205.337188)scale(0.08 -0.08)\">\n       <defs>\n        <path d=\"M 628 4666 \nL 1478 4666 \nL 3547 763 \nL 3547 4666 \nL 4159 4666 \nL 4159 0 \nL 3309 0 \nL 1241 3903 \nL 1241 0 \nL 628 0 \nL 628 4666 \nz\n\" id=\"DejaVuSans-4e\" transform=\"scale(0.015625)\"/>\n        <path d=\"M 1959 3097 \nQ 1497 3097 1228 2736 \nQ 959 2375 959 1747 \nQ 959 1119 1226 758 \nQ 1494 397 1959 397 \nQ 2419 397 2687 759 \nQ 2956 1122 2956 1747 \nQ 2956 2369 2687 2733 \nQ 2419 3097 1959 3097 \nz\nM 1959 3584 \nQ 2709 3584 3137 3096 \nQ 3566 2609 3566 1747 \nQ 3566 888 3137 398 \nQ 2709 -91 1959 -91 \nQ 1206 -91 779 398 \nQ 353 888 353 1747 \nQ 353 2609 779 3096 \nQ 1206 3584 1959 3584 \nz\n\" id=\"DejaVuSans-6f\" transform=\"scale(0.015625)\"/>\n        <path d=\"M 191 3500 \nL 800 3500 \nL 1894 563 \nL 2988 3500 \nL 3597 3500 \nL 2284 0 \nL 1503 0 \nL 191 3500 \nz\n\" id=\"DejaVuSans-76\" transform=\"scale(0.015625)\"/>\n       </defs>\n       <use xlink:href=\"#DejaVuSans-4e\"/>\n       <use x=\"74.804688\" xlink:href=\"#DejaVuSans-6f\"/>\n       <use x=\"135.986328\" xlink:href=\"#DejaVuSans-76\"/>\n      </g>\n     </g>\n    </g>\n    <g id=\"xtick_2\">\n     <g id=\"line2d_3\">\n      <path clip-path=\"url(#p32f70d4509)\" d=\"M 69.331783 195.758438 \nL 69.331783 20.798438 \n\" style=\"fill:none;stroke:#808080;stroke-opacity:0.5;stroke-width:0.25;\"/>\n     </g>\n     <g id=\"line2d_4\"/>\n     <g id=\"text_2\">\n      <!-- Dec -->\n      <g transform=\"translate(61.591158 205.337188)scale(0.08 -0.08)\">\n       <defs>\n        <path d=\"M 1259 4147 \nL 1259 519 \nL 2022 519 \nQ 2988 519 3436 956 \nQ 3884 1394 3884 2338 \nQ 3884 3275 3436 3711 \nQ 2988 4147 2022 4147 \nL 1259 4147 \nz\nM 628 4666 \nL 1925 4666 \nQ 3281 4666 3915 4102 \nQ 4550 3538 4550 2338 \nQ 4550 1131 3912 565 \nQ 3275 0 1925 0 \nL 628 0 \nL 628 4666 \nz\n\" id=\"DejaVuSans-44\" transform=\"scale(0.015625)\"/>\n        <path d=\"M 3597 1894 \nL 3597 1613 \nL 953 1613 \nQ 991 1019 1311 708 \nQ 1631 397 2203 397 \nQ 2534 397 2845 478 \nQ 3156 559 3463 722 \nL 3463 178 \nQ 3153 47 2828 -22 \nQ 2503 -91 2169 -91 \nQ 1331 -91 842 396 \nQ 353 884 353 1716 \nQ 353 2575 817 3079 \nQ 1281 3584 2069 3584 \nQ 2775 3584 3186 3129 \nQ 3597 2675 3597 1894 \nz\nM 3022 2063 \nQ 3016 2534 2758 2815 \nQ 2500 3097 2075 3097 \nQ 1594 3097 1305 2825 \nQ 1016 2553 972 2059 \nL 3022 2063 \nz\n\" id=\"DejaVuSans-65\" transform=\"scale(0.015625)\"/>\n        <path d=\"M 3122 3366 \nL 3122 2828 \nQ 2878 2963 2633 3030 \nQ 2388 3097 2138 3097 \nQ 1578 3097 1268 2742 \nQ 959 2388 959 1747 \nQ 959 1106 1268 751 \nQ 1578 397 2138 397 \nQ 2388 397 2633 464 \nQ 2878 531 3122 666 \nL 3122 134 \nQ 2881 22 2623 -34 \nQ 2366 -91 2075 -91 \nQ 1284 -91 818 406 \nQ 353 903 353 1747 \nQ 353 2603 823 3093 \nQ 1294 3584 2113 3584 \nQ 2378 3584 2631 3529 \nQ 2884 3475 3122 3366 \nz\n\" id=\"DejaVuSans-63\" transform=\"scale(0.015625)\"/>\n       </defs>\n       <use xlink:href=\"#DejaVuSans-44\"/>\n       <use x=\"77.001953\" xlink:href=\"#DejaVuSans-65\"/>\n       <use x=\"138.525391\" xlink:href=\"#DejaVuSans-63\"/>\n      </g>\n     </g>\n    </g>\n    <g id=\"xtick_3\">\n     <g id=\"line2d_5\">\n      <path clip-path=\"url(#p32f70d4509)\" d=\"M 97.989398 195.758438 \nL 97.989398 20.798438 \n\" style=\"fill:none;stroke:#808080;stroke-opacity:0.5;stroke-width:0.25;\"/>\n     </g>\n     <g id=\"line2d_6\"/>\n     <g id=\"text_3\">\n      <!-- Jan -->\n      <g transform=\"translate(91.823148 205.337188)scale(0.08 -0.08)\">\n       <defs>\n        <path d=\"M 628 4666 \nL 1259 4666 \nL 1259 325 \nQ 1259 -519 939 -900 \nQ 619 -1281 -91 -1281 \nL -331 -1281 \nL -331 -750 \nL -134 -750 \nQ 284 -750 456 -515 \nQ 628 -281 628 325 \nL 628 4666 \nz\n\" id=\"DejaVuSans-4a\" transform=\"scale(0.015625)\"/>\n        <path d=\"M 2194 1759 \nQ 1497 1759 1228 1600 \nQ 959 1441 959 1056 \nQ 959 750 1161 570 \nQ 1363 391 1709 391 \nQ 2188 391 2477 730 \nQ 2766 1069 2766 1631 \nL 2766 1759 \nL 2194 1759 \nz\nM 3341 1997 \nL 3341 0 \nL 2766 0 \nL 2766 531 \nQ 2569 213 2275 61 \nQ 1981 -91 1556 -91 \nQ 1019 -91 701 211 \nQ 384 513 384 1019 \nQ 384 1609 779 1909 \nQ 1175 2209 1959 2209 \nL 2766 2209 \nL 2766 2266 \nQ 2766 2663 2505 2880 \nQ 2244 3097 1772 3097 \nQ 1472 3097 1187 3025 \nQ 903 2953 641 2809 \nL 641 3341 \nQ 956 3463 1253 3523 \nQ 1550 3584 1831 3584 \nQ 2591 3584 2966 3190 \nQ 3341 2797 3341 1997 \nz\n\" id=\"DejaVuSans-61\" transform=\"scale(0.015625)\"/>\n        <path d=\"M 3513 2113 \nL 3513 0 \nL 2938 0 \nL 2938 2094 \nQ 2938 2591 2744 2837 \nQ 2550 3084 2163 3084 \nQ 1697 3084 1428 2787 \nQ 1159 2491 1159 1978 \nL 1159 0 \nL 581 0 \nL 581 3500 \nL 1159 3500 \nL 1159 2956 \nQ 1366 3272 1645 3428 \nQ 1925 3584 2291 3584 \nQ 2894 3584 3203 3211 \nQ 3513 2838 3513 2113 \nz\n\" id=\"DejaVuSans-6e\" transform=\"scale(0.015625)\"/>\n       </defs>\n       <use xlink:href=\"#DejaVuSans-4a\"/>\n       <use x=\"29.492188\" xlink:href=\"#DejaVuSans-61\"/>\n       <use x=\"90.771484\" xlink:href=\"#DejaVuSans-6e\"/>\n      </g>\n     </g>\n    </g>\n    <g id=\"xtick_4\">\n     <g id=\"line2d_7\">\n      <path clip-path=\"url(#p32f70d4509)\" d=\"M 126.647013 195.758438 \nL 126.647013 20.798438 \n\" style=\"fill:none;stroke:#808080;stroke-opacity:0.5;stroke-width:0.25;\"/>\n     </g>\n     <g id=\"line2d_8\"/>\n     <g id=\"text_4\">\n      <!-- Feb -->\n      <g transform=\"translate(119.565763 205.337188)scale(0.08 -0.08)\">\n       <defs>\n        <path d=\"M 628 4666 \nL 3309 4666 \nL 3309 4134 \nL 1259 4134 \nL 1259 2759 \nL 3109 2759 \nL 3109 2228 \nL 1259 2228 \nL 1259 0 \nL 628 0 \nL 628 4666 \nz\n\" id=\"DejaVuSans-46\" transform=\"scale(0.015625)\"/>\n        <path d=\"M 3116 1747 \nQ 3116 2381 2855 2742 \nQ 2594 3103 2138 3103 \nQ 1681 3103 1420 2742 \nQ 1159 2381 1159 1747 \nQ 1159 1113 1420 752 \nQ 1681 391 2138 391 \nQ 2594 391 2855 752 \nQ 3116 1113 3116 1747 \nz\nM 1159 2969 \nQ 1341 3281 1617 3432 \nQ 1894 3584 2278 3584 \nQ 2916 3584 3314 3078 \nQ 3713 2572 3713 1747 \nQ 3713 922 3314 415 \nQ 2916 -91 2278 -91 \nQ 1894 -91 1617 61 \nQ 1341 213 1159 525 \nL 1159 0 \nL 581 0 \nL 581 4863 \nL 1159 4863 \nL 1159 2969 \nz\n\" id=\"DejaVuSans-62\" transform=\"scale(0.015625)\"/>\n       </defs>\n       <use xlink:href=\"#DejaVuSans-46\"/>\n       <use x=\"52.019531\" xlink:href=\"#DejaVuSans-65\"/>\n       <use x=\"113.542969\" xlink:href=\"#DejaVuSans-62\"/>\n      </g>\n     </g>\n    </g>\n    <g id=\"xtick_5\">\n     <g id=\"line2d_9\">\n      <path clip-path=\"url(#p32f70d4509)\" d=\"M 152.531311 195.758438 \nL 152.531311 20.798438 \n\" style=\"fill:none;stroke:#808080;stroke-opacity:0.5;stroke-width:0.25;\"/>\n     </g>\n     <g id=\"line2d_10\"/>\n     <g id=\"text_5\">\n      <!-- Mar -->\n      <g transform=\"translate(144.984436 205.337188)scale(0.08 -0.08)\">\n       <defs>\n        <path d=\"M 628 4666 \nL 1569 4666 \nL 2759 1491 \nL 3956 4666 \nL 4897 4666 \nL 4897 0 \nL 4281 0 \nL 4281 4097 \nL 3078 897 \nL 2444 897 \nL 1241 4097 \nL 1241 0 \nL 628 0 \nL 628 4666 \nz\n\" id=\"DejaVuSans-4d\" transform=\"scale(0.015625)\"/>\n        <path d=\"M 2631 2963 \nQ 2534 3019 2420 3045 \nQ 2306 3072 2169 3072 \nQ 1681 3072 1420 2755 \nQ 1159 2438 1159 1844 \nL 1159 0 \nL 581 0 \nL 581 3500 \nL 1159 3500 \nL 1159 2956 \nQ 1341 3275 1631 3429 \nQ 1922 3584 2338 3584 \nQ 2397 3584 2469 3576 \nQ 2541 3569 2628 3553 \nL 2631 2963 \nz\n\" id=\"DejaVuSans-72\" transform=\"scale(0.015625)\"/>\n       </defs>\n       <use xlink:href=\"#DejaVuSans-4d\"/>\n       <use x=\"86.279297\" xlink:href=\"#DejaVuSans-61\"/>\n       <use x=\"147.558594\" xlink:href=\"#DejaVuSans-72\"/>\n      </g>\n     </g>\n    </g>\n    <g id=\"xtick_6\">\n     <g id=\"line2d_11\">\n      <path clip-path=\"url(#p32f70d4509)\" d=\"M 181.188926 195.758438 \nL 181.188926 20.798438 \n\" style=\"fill:none;stroke:#808080;stroke-opacity:0.5;stroke-width:0.25;\"/>\n     </g>\n     <g id=\"line2d_12\"/>\n     <g id=\"text_6\">\n      <!-- Apr -->\n      <g transform=\"translate(174.268926 205.337188)scale(0.08 -0.08)\">\n       <defs>\n        <path d=\"M 2188 4044 \nL 1331 1722 \nL 3047 1722 \nL 2188 4044 \nz\nM 1831 4666 \nL 2547 4666 \nL 4325 0 \nL 3669 0 \nL 3244 1197 \nL 1141 1197 \nL 716 0 \nL 50 0 \nL 1831 4666 \nz\n\" id=\"DejaVuSans-41\" transform=\"scale(0.015625)\"/>\n        <path d=\"M 1159 525 \nL 1159 -1331 \nL 581 -1331 \nL 581 3500 \nL 1159 3500 \nL 1159 2969 \nQ 1341 3281 1617 3432 \nQ 1894 3584 2278 3584 \nQ 2916 3584 3314 3078 \nQ 3713 2572 3713 1747 \nQ 3713 922 3314 415 \nQ 2916 -91 2278 -91 \nQ 1894 -91 1617 61 \nQ 1341 213 1159 525 \nz\nM 3116 1747 \nQ 3116 2381 2855 2742 \nQ 2594 3103 2138 3103 \nQ 1681 3103 1420 2742 \nQ 1159 2381 1159 1747 \nQ 1159 1113 1420 752 \nQ 1681 391 2138 391 \nQ 2594 391 2855 752 \nQ 3116 1113 3116 1747 \nz\n\" id=\"DejaVuSans-70\" transform=\"scale(0.015625)\"/>\n       </defs>\n       <use xlink:href=\"#DejaVuSans-41\"/>\n       <use x=\"68.408203\" xlink:href=\"#DejaVuSans-70\"/>\n       <use x=\"131.884766\" xlink:href=\"#DejaVuSans-72\"/>\n      </g>\n     </g>\n    </g>\n   </g>\n   <g id=\"matplotlib.axis_2\">\n    <g id=\"ytick_1\">\n     <g id=\"line2d_13\">\n      <path clip-path=\"url(#p32f70d4509)\" d=\"M 31.06 171.245105 \nL 201.896364 171.245105 \n\" style=\"fill:none;stroke:#808080;stroke-opacity:0.5;stroke-width:0.25;\"/>\n     </g>\n     <g id=\"line2d_14\"/>\n     <g id=\"text_7\">\n      <!-- 1300 -->\n      <g transform=\"translate(7.2 174.28448)scale(0.08 -0.08)\">\n       <defs>\n        <path d=\"M 794 531 \nL 1825 531 \nL 1825 4091 \nL 703 3866 \nL 703 4441 \nL 1819 4666 \nL 2450 4666 \nL 2450 531 \nL 3481 531 \nL 3481 0 \nL 794 0 \nL 794 531 \nz\n\" id=\"DejaVuSans-31\" transform=\"scale(0.015625)\"/>\n        <path d=\"M 2597 2516 \nQ 3050 2419 3304 2112 \nQ 3559 1806 3559 1356 \nQ 3559 666 3084 287 \nQ 2609 -91 1734 -91 \nQ 1441 -91 1130 -33 \nQ 819 25 488 141 \nL 488 750 \nQ 750 597 1062 519 \nQ 1375 441 1716 441 \nQ 2309 441 2620 675 \nQ 2931 909 2931 1356 \nQ 2931 1769 2642 2001 \nQ 2353 2234 1838 2234 \nL 1294 2234 \nL 1294 2753 \nL 1863 2753 \nQ 2328 2753 2575 2939 \nQ 2822 3125 2822 3475 \nQ 2822 3834 2567 4026 \nQ 2313 4219 1838 4219 \nQ 1578 4219 1281 4162 \nQ 984 4106 628 3988 \nL 628 4550 \nQ 988 4650 1302 4700 \nQ 1616 4750 1894 4750 \nQ 2613 4750 3031 4423 \nQ 3450 4097 3450 3541 \nQ 3450 3153 3228 2886 \nQ 3006 2619 2597 2516 \nz\n\" id=\"DejaVuSans-33\" transform=\"scale(0.015625)\"/>\n        <path d=\"M 2034 4250 \nQ 1547 4250 1301 3770 \nQ 1056 3291 1056 2328 \nQ 1056 1369 1301 889 \nQ 1547 409 2034 409 \nQ 2525 409 2770 889 \nQ 3016 1369 3016 2328 \nQ 3016 3291 2770 3770 \nQ 2525 4250 2034 4250 \nz\nM 2034 4750 \nQ 2819 4750 3233 4129 \nQ 3647 3509 3647 2328 \nQ 3647 1150 3233 529 \nQ 2819 -91 2034 -91 \nQ 1250 -91 836 529 \nQ 422 1150 422 2328 \nQ 422 3509 836 4129 \nQ 1250 4750 2034 4750 \nz\n\" id=\"DejaVuSans-30\" transform=\"scale(0.015625)\"/>\n       </defs>\n       <use xlink:href=\"#DejaVuSans-31\"/>\n       <use x=\"63.623047\" xlink:href=\"#DejaVuSans-33\"/>\n       <use x=\"127.246094\" xlink:href=\"#DejaVuSans-30\"/>\n       <use x=\"190.869141\" xlink:href=\"#DejaVuSans-30\"/>\n      </g>\n     </g>\n    </g>\n    <g id=\"ytick_2\">\n     <g id=\"line2d_15\">\n      <path clip-path=\"url(#p32f70d4509)\" d=\"M 31.06 141.536945 \nL 201.896364 141.536945 \n\" style=\"fill:none;stroke:#808080;stroke-opacity:0.5;stroke-width:0.25;\"/>\n     </g>\n     <g id=\"line2d_16\"/>\n     <g id=\"text_8\">\n      <!-- 1400 -->\n      <g transform=\"translate(7.2 144.57632)scale(0.08 -0.08)\">\n       <defs>\n        <path d=\"M 2419 4116 \nL 825 1625 \nL 2419 1625 \nL 2419 4116 \nz\nM 2253 4666 \nL 3047 4666 \nL 3047 1625 \nL 3713 1625 \nL 3713 1100 \nL 3047 1100 \nL 3047 0 \nL 2419 0 \nL 2419 1100 \nL 313 1100 \nL 313 1709 \nL 2253 4666 \nz\n\" id=\"DejaVuSans-34\" transform=\"scale(0.015625)\"/>\n       </defs>\n       <use xlink:href=\"#DejaVuSans-31\"/>\n       <use x=\"63.623047\" xlink:href=\"#DejaVuSans-34\"/>\n       <use x=\"127.246094\" xlink:href=\"#DejaVuSans-30\"/>\n       <use x=\"190.869141\" xlink:href=\"#DejaVuSans-30\"/>\n      </g>\n     </g>\n    </g>\n    <g id=\"ytick_3\">\n     <g id=\"line2d_17\">\n      <path clip-path=\"url(#p32f70d4509)\" d=\"M 31.06 111.828785 \nL 201.896364 111.828785 \n\" style=\"fill:none;stroke:#808080;stroke-opacity:0.5;stroke-width:0.25;\"/>\n     </g>\n     <g id=\"line2d_18\"/>\n     <g id=\"text_9\">\n      <!-- 1500 -->\n      <g transform=\"translate(7.2 114.86816)scale(0.08 -0.08)\">\n       <defs>\n        <path d=\"M 691 4666 \nL 3169 4666 \nL 3169 4134 \nL 1269 4134 \nL 1269 2991 \nQ 1406 3038 1543 3061 \nQ 1681 3084 1819 3084 \nQ 2600 3084 3056 2656 \nQ 3513 2228 3513 1497 \nQ 3513 744 3044 326 \nQ 2575 -91 1722 -91 \nQ 1428 -91 1123 -41 \nQ 819 9 494 109 \nL 494 744 \nQ 775 591 1075 516 \nQ 1375 441 1709 441 \nQ 2250 441 2565 725 \nQ 2881 1009 2881 1497 \nQ 2881 1984 2565 2268 \nQ 2250 2553 1709 2553 \nQ 1456 2553 1204 2497 \nQ 953 2441 691 2322 \nL 691 4666 \nz\n\" id=\"DejaVuSans-35\" transform=\"scale(0.015625)\"/>\n       </defs>\n       <use xlink:href=\"#DejaVuSans-31\"/>\n       <use x=\"63.623047\" xlink:href=\"#DejaVuSans-35\"/>\n       <use x=\"127.246094\" xlink:href=\"#DejaVuSans-30\"/>\n       <use x=\"190.869141\" xlink:href=\"#DejaVuSans-30\"/>\n      </g>\n     </g>\n    </g>\n    <g id=\"ytick_4\">\n     <g id=\"line2d_19\">\n      <path clip-path=\"url(#p32f70d4509)\" d=\"M 31.06 82.120626 \nL 201.896364 82.120626 \n\" style=\"fill:none;stroke:#808080;stroke-opacity:0.5;stroke-width:0.25;\"/>\n     </g>\n     <g id=\"line2d_20\"/>\n     <g id=\"text_10\">\n      <!-- 1600 -->\n      <g transform=\"translate(7.2 85.160001)scale(0.08 -0.08)\">\n       <defs>\n        <path d=\"M 2113 2584 \nQ 1688 2584 1439 2293 \nQ 1191 2003 1191 1497 \nQ 1191 994 1439 701 \nQ 1688 409 2113 409 \nQ 2538 409 2786 701 \nQ 3034 994 3034 1497 \nQ 3034 2003 2786 2293 \nQ 2538 2584 2113 2584 \nz\nM 3366 4563 \nL 3366 3988 \nQ 3128 4100 2886 4159 \nQ 2644 4219 2406 4219 \nQ 1781 4219 1451 3797 \nQ 1122 3375 1075 2522 \nQ 1259 2794 1537 2939 \nQ 1816 3084 2150 3084 \nQ 2853 3084 3261 2657 \nQ 3669 2231 3669 1497 \nQ 3669 778 3244 343 \nQ 2819 -91 2113 -91 \nQ 1303 -91 875 529 \nQ 447 1150 447 2328 \nQ 447 3434 972 4092 \nQ 1497 4750 2381 4750 \nQ 2619 4750 2861 4703 \nQ 3103 4656 3366 4563 \nz\n\" id=\"DejaVuSans-36\" transform=\"scale(0.015625)\"/>\n       </defs>\n       <use xlink:href=\"#DejaVuSans-31\"/>\n       <use x=\"63.623047\" xlink:href=\"#DejaVuSans-36\"/>\n       <use x=\"127.246094\" xlink:href=\"#DejaVuSans-30\"/>\n       <use x=\"190.869141\" xlink:href=\"#DejaVuSans-30\"/>\n      </g>\n     </g>\n    </g>\n    <g id=\"ytick_5\">\n     <g id=\"line2d_21\">\n      <path clip-path=\"url(#p32f70d4509)\" d=\"M 31.06 52.412466 \nL 201.896364 52.412466 \n\" style=\"fill:none;stroke:#808080;stroke-opacity:0.5;stroke-width:0.25;\"/>\n     </g>\n     <g id=\"line2d_22\"/>\n     <g id=\"text_11\">\n      <!-- 1700 -->\n      <g transform=\"translate(7.2 55.451841)scale(0.08 -0.08)\">\n       <defs>\n        <path d=\"M 525 4666 \nL 3525 4666 \nL 3525 4397 \nL 1831 0 \nL 1172 0 \nL 2766 4134 \nL 525 4134 \nL 525 4666 \nz\n\" id=\"DejaVuSans-37\" transform=\"scale(0.015625)\"/>\n       </defs>\n       <use xlink:href=\"#DejaVuSans-31\"/>\n       <use x=\"63.623047\" xlink:href=\"#DejaVuSans-37\"/>\n       <use x=\"127.246094\" xlink:href=\"#DejaVuSans-30\"/>\n       <use x=\"190.869141\" xlink:href=\"#DejaVuSans-30\"/>\n      </g>\n     </g>\n    </g>\n    <g id=\"ytick_6\">\n     <g id=\"line2d_23\">\n      <path clip-path=\"url(#p32f70d4509)\" d=\"M 31.06 22.704307 \nL 201.896364 22.704307 \n\" style=\"fill:none;stroke:#808080;stroke-opacity:0.5;stroke-width:0.25;\"/>\n     </g>\n     <g id=\"line2d_24\"/>\n     <g id=\"text_12\">\n      <!-- 1800 -->\n      <g transform=\"translate(7.2 25.743682)scale(0.08 -0.08)\">\n       <defs>\n        <path d=\"M 2034 2216 \nQ 1584 2216 1326 1975 \nQ 1069 1734 1069 1313 \nQ 1069 891 1326 650 \nQ 1584 409 2034 409 \nQ 2484 409 2743 651 \nQ 3003 894 3003 1313 \nQ 3003 1734 2745 1975 \nQ 2488 2216 2034 2216 \nz\nM 1403 2484 \nQ 997 2584 770 2862 \nQ 544 3141 544 3541 \nQ 544 4100 942 4425 \nQ 1341 4750 2034 4750 \nQ 2731 4750 3128 4425 \nQ 3525 4100 3525 3541 \nQ 3525 3141 3298 2862 \nQ 3072 2584 2669 2484 \nQ 3125 2378 3379 2068 \nQ 3634 1759 3634 1313 \nQ 3634 634 3220 271 \nQ 2806 -91 2034 -91 \nQ 1263 -91 848 271 \nQ 434 634 434 1313 \nQ 434 1759 690 2068 \nQ 947 2378 1403 2484 \nz\nM 1172 3481 \nQ 1172 3119 1398 2916 \nQ 1625 2713 2034 2713 \nQ 2441 2713 2670 2916 \nQ 2900 3119 2900 3481 \nQ 2900 3844 2670 4047 \nQ 2441 4250 2034 4250 \nQ 1625 4250 1398 4047 \nQ 1172 3844 1172 3481 \nz\n\" id=\"DejaVuSans-38\" transform=\"scale(0.015625)\"/>\n       </defs>\n       <use xlink:href=\"#DejaVuSans-31\"/>\n       <use x=\"63.623047\" xlink:href=\"#DejaVuSans-38\"/>\n       <use x=\"127.246094\" xlink:href=\"#DejaVuSans-30\"/>\n       <use x=\"190.869141\" xlink:href=\"#DejaVuSans-30\"/>\n      </g>\n     </g>\n    </g>\n   </g>\n   <g id=\"line2d_25\">\n    <path clip-path=\"url(#p32f70d4509)\" d=\"M 41.598607 169.410626 \nL 43.447485 171.485057 \nL 45.296364 172.722937 \nL 47.145242 174.475184 \nL 58.238512 178.025606 \nL 60.087391 181.186851 \nL 62.860708 184.684957 \nL 64.709587 185.608376 \nL 67.482904 187.087664 \nL 69.331783 187.80571 \nL 73.02954 182.388635 \nL 80.425053 181.941795 \nL 82.273932 182.451527 \nL 85.971688 186.61875 \nL 101.687155 184.510362 \nL 103.536033 182.119776 \nL 106.309351 181.767378 \nL 109.082668 179.954943 \nL 111.855986 181.741176 \nL 116.478182 177.595224 \nL 118.32706 180.748626 \nL 122.949256 183.147857 \nL 124.798135 176.688352 \nL 128.495891 175.113612 \nL 132.193648 173.385102 \nL 134.042527 169.57001 \nL 144.211358 170.036755 \nL 150.682432 175.595389 \nL 153.45575 173.229847 \nL 157.153506 175.07716 \nL 158.077946 176.425584 \nL 161.775702 170.411226 \nL 163.624581 172.088579 \nL 164.54902 169.478776 \nL 168.246777 173.174442 \nL 170.095655 169.471438 \nL 176.56673 162.274934 \nL 179.340047 164.14328 \nL 187.66 170.204992 \nL 192.282196 174.692618 \nL 194.131074 176.893814 \n\" style=\"fill:none;stroke:#43a2ca;stroke-width:2;\"/>\n   </g>\n   <g id=\"line2d_26\">\n    <path clip-path=\"url(#p32f70d4509)\" d=\"M 38.825289 147.910415 \nL 45.296364 144.428113 \nL 47.145242 145.650218 \nL 51.767438 139.42523 \nL 53.616316 142.651536 \nL 56.389634 143.936948 \nL 61.936269 143.310255 \nL 66.558465 144.722402 \nL 68.407344 146.665821 \nL 71.180661 149.152097 \nL 73.02954 147.87016 \nL 74.878418 144.553482 \nL 79.500614 143.118904 \nL 84.12281 142.076445 \nL 85.971688 139.245198 \nL 92.442763 140.860728 \nL 97.064959 143.546227 \nL 98.913837 139.57683 \nL 101.687155 142.831953 \nL 108.158229 143.692391 \nL 110.007107 140.689639 \nL 111.855986 142.740363 \nL 124.798135 140.611476 \nL 126.647013 142.030665 \nL 129.420331 141.113158 \nL 131.269209 139.68678 \nL 135.891405 138.987212 \nL 148.833554 137.315921 \nL 150.682432 135.469499 \nL 152.531311 133.339335 \nL 155.304628 136.08217 \nL 161.775702 128.469514 \nL 163.624581 126.344757 \nL 166.397898 122.305457 \nL 171.944534 122.520336 \nL 174.717851 119.816953 \nL 178.415608 121.993105 \nL 181.188926 119.449404 \nL 183.037804 117.137752 \nL 191.357757 109.061857 \nL 193.206635 99.789257 \n\" style=\"fill:none;stroke:#007a33;stroke-width:2;\"/>\n   </g>\n   <g id=\"patch_3\">\n    <path d=\"M 31.06 195.758438 \nL 31.06 20.798437 \n\" style=\"fill:none;stroke:#f0f0f0;stroke-linecap:square;stroke-linejoin:miter;stroke-width:3;\"/>\n   </g>\n   <g id=\"patch_4\">\n    <path d=\"M 201.896364 195.758438 \nL 201.896364 20.798437 \n\" style=\"fill:none;stroke:#f0f0f0;stroke-linecap:square;stroke-linejoin:miter;stroke-width:3;\"/>\n   </g>\n   <g id=\"patch_5\">\n    <path d=\"M 31.06 195.758438 \nL 201.896364 195.758438 \n\" style=\"fill:none;stroke:#f0f0f0;stroke-linecap:square;stroke-linejoin:miter;stroke-width:3;\"/>\n   </g>\n   <g id=\"patch_6\">\n    <path d=\"M 31.06 20.798438 \nL 201.896364 20.798438 \n\" style=\"fill:none;stroke:#f0f0f0;stroke-linecap:square;stroke-linejoin:miter;stroke-width:3;\"/>\n   </g>\n   <g id=\"text_13\">\n    <!-- Sixers vs Celtics -->\n    <g style=\"opacity:0.8;\" transform=\"translate(70.570369 14.798438)scale(0.1 -0.1)\">\n     <defs>\n      <path d=\"M 3834 4519 \nL 3834 3531 \nQ 3450 3703 3084 3790 \nQ 2719 3878 2394 3878 \nQ 1963 3878 1756 3759 \nQ 1550 3641 1550 3391 \nQ 1550 3203 1689 3098 \nQ 1828 2994 2194 2919 \nL 2706 2816 \nQ 3484 2659 3812 2340 \nQ 4141 2022 4141 1434 \nQ 4141 663 3683 286 \nQ 3225 -91 2284 -91 \nQ 1841 -91 1394 -6 \nQ 947 78 500 244 \nL 500 1259 \nQ 947 1022 1364 901 \nQ 1781 781 2169 781 \nQ 2563 781 2772 912 \nQ 2981 1044 2981 1288 \nQ 2981 1506 2839 1625 \nQ 2697 1744 2272 1838 \nL 1806 1941 \nQ 1106 2091 782 2419 \nQ 459 2747 459 3303 \nQ 459 4000 909 4375 \nQ 1359 4750 2203 4750 \nQ 2588 4750 2994 4692 \nQ 3400 4634 3834 4519 \nz\n\" id=\"DejaVuSans-Bold-53\" transform=\"scale(0.015625)\"/>\n      <path d=\"M 538 3500 \nL 1656 3500 \nL 1656 0 \nL 538 0 \nL 538 3500 \nz\nM 538 4863 \nL 1656 4863 \nL 1656 3950 \nL 538 3950 \nL 538 4863 \nz\n\" id=\"DejaVuSans-Bold-69\" transform=\"scale(0.015625)\"/>\n      <path d=\"M 1422 1791 \nL 159 3500 \nL 1344 3500 \nL 2059 2463 \nL 2784 3500 \nL 3969 3500 \nL 2706 1797 \nL 4031 0 \nL 2847 0 \nL 2059 1106 \nL 1281 0 \nL 97 0 \nL 1422 1791 \nz\n\" id=\"DejaVuSans-Bold-78\" transform=\"scale(0.015625)\"/>\n      <path d=\"M 4031 1759 \nL 4031 1441 \nL 1416 1441 \nQ 1456 1047 1700 850 \nQ 1944 653 2381 653 \nQ 2734 653 3104 758 \nQ 3475 863 3866 1075 \nL 3866 213 \nQ 3469 63 3072 -14 \nQ 2675 -91 2278 -91 \nQ 1328 -91 801 392 \nQ 275 875 275 1747 \nQ 275 2603 792 3093 \nQ 1309 3584 2216 3584 \nQ 3041 3584 3536 3087 \nQ 4031 2591 4031 1759 \nz\nM 2881 2131 \nQ 2881 2450 2695 2645 \nQ 2509 2841 2209 2841 \nQ 1884 2841 1681 2658 \nQ 1478 2475 1428 2131 \nL 2881 2131 \nz\n\" id=\"DejaVuSans-Bold-65\" transform=\"scale(0.015625)\"/>\n      <path d=\"M 3138 2547 \nQ 2991 2616 2845 2648 \nQ 2700 2681 2553 2681 \nQ 2122 2681 1889 2404 \nQ 1656 2128 1656 1613 \nL 1656 0 \nL 538 0 \nL 538 3500 \nL 1656 3500 \nL 1656 2925 \nQ 1872 3269 2151 3426 \nQ 2431 3584 2822 3584 \nQ 2878 3584 2943 3579 \nQ 3009 3575 3134 3559 \nL 3138 2547 \nz\n\" id=\"DejaVuSans-Bold-72\" transform=\"scale(0.015625)\"/>\n      <path d=\"M 3272 3391 \nL 3272 2541 \nQ 2913 2691 2578 2766 \nQ 2244 2841 1947 2841 \nQ 1628 2841 1473 2761 \nQ 1319 2681 1319 2516 \nQ 1319 2381 1436 2309 \nQ 1553 2238 1856 2203 \nL 2053 2175 \nQ 2913 2066 3209 1816 \nQ 3506 1566 3506 1031 \nQ 3506 472 3093 190 \nQ 2681 -91 1863 -91 \nQ 1516 -91 1145 -36 \nQ 775 19 384 128 \nL 384 978 \nQ 719 816 1070 734 \nQ 1422 653 1784 653 \nQ 2113 653 2278 743 \nQ 2444 834 2444 1013 \nQ 2444 1163 2330 1236 \nQ 2216 1309 1875 1350 \nL 1678 1375 \nQ 931 1469 631 1722 \nQ 331 1975 331 2491 \nQ 331 3047 712 3315 \nQ 1094 3584 1881 3584 \nQ 2191 3584 2531 3537 \nQ 2872 3491 3272 3391 \nz\n\" id=\"DejaVuSans-Bold-73\" transform=\"scale(0.015625)\"/>\n      <path id=\"DejaVuSans-Bold-20\" transform=\"scale(0.015625)\"/>\n      <path d=\"M 97 3500 \nL 1216 3500 \nL 2088 1081 \nL 2956 3500 \nL 4078 3500 \nL 2700 0 \nL 1472 0 \nL 97 3500 \nz\n\" id=\"DejaVuSans-Bold-76\" transform=\"scale(0.015625)\"/>\n      <path d=\"M 4288 256 \nQ 3956 84 3597 -3 \nQ 3238 -91 2847 -91 \nQ 1681 -91 1000 561 \nQ 319 1213 319 2328 \nQ 319 3447 1000 4098 \nQ 1681 4750 2847 4750 \nQ 3238 4750 3597 4662 \nQ 3956 4575 4288 4403 \nL 4288 3438 \nQ 3953 3666 3628 3772 \nQ 3303 3878 2944 3878 \nQ 2300 3878 1931 3465 \nQ 1563 3053 1563 2328 \nQ 1563 1606 1931 1193 \nQ 2300 781 2944 781 \nQ 3303 781 3628 887 \nQ 3953 994 4288 1222 \nL 4288 256 \nz\n\" id=\"DejaVuSans-Bold-43\" transform=\"scale(0.015625)\"/>\n      <path d=\"M 538 4863 \nL 1656 4863 \nL 1656 0 \nL 538 0 \nL 538 4863 \nz\n\" id=\"DejaVuSans-Bold-6c\" transform=\"scale(0.015625)\"/>\n      <path d=\"M 1759 4494 \nL 1759 3500 \nL 2913 3500 \nL 2913 2700 \nL 1759 2700 \nL 1759 1216 \nQ 1759 972 1856 886 \nQ 1953 800 2241 800 \nL 2816 800 \nL 2816 0 \nL 1856 0 \nQ 1194 0 917 276 \nQ 641 553 641 1216 \nL 641 2700 \nL 84 2700 \nL 84 3500 \nL 641 3500 \nL 641 4494 \nL 1759 4494 \nz\n\" id=\"DejaVuSans-Bold-74\" transform=\"scale(0.015625)\"/>\n      <path d=\"M 3366 3391 \nL 3366 2478 \nQ 3138 2634 2908 2709 \nQ 2678 2784 2431 2784 \nQ 1963 2784 1702 2511 \nQ 1441 2238 1441 1747 \nQ 1441 1256 1702 982 \nQ 1963 709 2431 709 \nQ 2694 709 2930 787 \nQ 3166 866 3366 1019 \nL 3366 103 \nQ 3103 6 2833 -42 \nQ 2563 -91 2291 -91 \nQ 1344 -91 809 395 \nQ 275 881 275 1747 \nQ 275 2613 809 3098 \nQ 1344 3584 2291 3584 \nQ 2566 3584 2833 3536 \nQ 3100 3488 3366 3391 \nz\n\" id=\"DejaVuSans-Bold-63\" transform=\"scale(0.015625)\"/>\n     </defs>\n     <use xlink:href=\"#DejaVuSans-Bold-53\"/>\n     <use x=\"72.021484\" xlink:href=\"#DejaVuSans-Bold-69\"/>\n     <use x=\"106.298828\" xlink:href=\"#DejaVuSans-Bold-78\"/>\n     <use x=\"170.800781\" xlink:href=\"#DejaVuSans-Bold-65\"/>\n     <use x=\"238.623047\" xlink:href=\"#DejaVuSans-Bold-72\"/>\n     <use x=\"287.939453\" xlink:href=\"#DejaVuSans-Bold-73\"/>\n     <use x=\"347.460938\" xlink:href=\"#DejaVuSans-Bold-20\"/>\n     <use x=\"382.275391\" xlink:href=\"#DejaVuSans-Bold-76\"/>\n     <use x=\"447.460938\" xlink:href=\"#DejaVuSans-Bold-73\"/>\n     <use x=\"506.982422\" xlink:href=\"#DejaVuSans-Bold-20\"/>\n     <use x=\"541.796875\" xlink:href=\"#DejaVuSans-Bold-43\"/>\n     <use x=\"615.185547\" xlink:href=\"#DejaVuSans-Bold-65\"/>\n     <use x=\"683.007812\" xlink:href=\"#DejaVuSans-Bold-6c\"/>\n     <use x=\"717.285156\" xlink:href=\"#DejaVuSans-Bold-74\"/>\n     <use x=\"765.087891\" xlink:href=\"#DejaVuSans-Bold-69\"/>\n     <use x=\"799.365234\" xlink:href=\"#DejaVuSans-Bold-63\"/>\n     <use x=\"858.642578\" xlink:href=\"#DejaVuSans-Bold-73\"/>\n    </g>\n   </g>\n  </g>\n  <g id=\"axes_2\">\n   <g id=\"patch_7\">\n    <path d=\"M 236.063636 195.758438 \nL 406.9 195.758438 \nL 406.9 20.798438 \nL 236.063636 20.798438 \nz\n\" style=\"fill:#f0f0f0;\"/>\n   </g>\n   <g id=\"matplotlib.axis_3\">\n    <g id=\"xtick_7\">\n     <g id=\"line2d_27\">\n      <path clip-path=\"url(#pab7639c127)\" d=\"M 246.602243 195.758438 \nL 246.602243 20.798438 \n\" style=\"fill:none;stroke:#808080;stroke-opacity:0.5;stroke-width:0.25;\"/>\n     </g>\n     <g id=\"line2d_28\"/>\n     <g id=\"text_14\">\n      <!-- Nov -->\n      <g transform=\"translate(238.794743 205.337188)scale(0.08 -0.08)\">\n       <use xlink:href=\"#DejaVuSans-4e\"/>\n       <use x=\"74.804688\" xlink:href=\"#DejaVuSans-6f\"/>\n       <use x=\"135.986328\" xlink:href=\"#DejaVuSans-76\"/>\n      </g>\n     </g>\n    </g>\n    <g id=\"xtick_8\">\n     <g id=\"line2d_29\">\n      <path clip-path=\"url(#pab7639c127)\" d=\"M 274.335419 195.758438 \nL 274.335419 20.798438 \n\" style=\"fill:none;stroke:#808080;stroke-opacity:0.5;stroke-width:0.25;\"/>\n     </g>\n     <g id=\"line2d_30\"/>\n     <g id=\"text_15\">\n      <!-- Dec -->\n      <g transform=\"translate(266.594794 205.337188)scale(0.08 -0.08)\">\n       <use xlink:href=\"#DejaVuSans-44\"/>\n       <use x=\"77.001953\" xlink:href=\"#DejaVuSans-65\"/>\n       <use x=\"138.525391\" xlink:href=\"#DejaVuSans-63\"/>\n      </g>\n     </g>\n    </g>\n    <g id=\"xtick_9\">\n     <g id=\"line2d_31\">\n      <path clip-path=\"url(#pab7639c127)\" d=\"M 302.993034 195.758438 \nL 302.993034 20.798438 \n\" style=\"fill:none;stroke:#808080;stroke-opacity:0.5;stroke-width:0.25;\"/>\n     </g>\n     <g id=\"line2d_32\"/>\n     <g id=\"text_16\">\n      <!-- Jan -->\n      <g transform=\"translate(296.826784 205.337188)scale(0.08 -0.08)\">\n       <use xlink:href=\"#DejaVuSans-4a\"/>\n       <use x=\"29.492188\" xlink:href=\"#DejaVuSans-61\"/>\n       <use x=\"90.771484\" xlink:href=\"#DejaVuSans-6e\"/>\n      </g>\n     </g>\n    </g>\n    <g id=\"xtick_10\">\n     <g id=\"line2d_33\">\n      <path clip-path=\"url(#pab7639c127)\" d=\"M 331.650649 195.758438 \nL 331.650649 20.798438 \n\" style=\"fill:none;stroke:#808080;stroke-opacity:0.5;stroke-width:0.25;\"/>\n     </g>\n     <g id=\"line2d_34\"/>\n     <g id=\"text_17\">\n      <!-- Feb -->\n      <g transform=\"translate(324.569399 205.337188)scale(0.08 -0.08)\">\n       <use xlink:href=\"#DejaVuSans-46\"/>\n       <use x=\"52.019531\" xlink:href=\"#DejaVuSans-65\"/>\n       <use x=\"113.542969\" xlink:href=\"#DejaVuSans-62\"/>\n      </g>\n     </g>\n    </g>\n    <g id=\"xtick_11\">\n     <g id=\"line2d_35\">\n      <path clip-path=\"url(#pab7639c127)\" d=\"M 357.534947 195.758438 \nL 357.534947 20.798438 \n\" style=\"fill:none;stroke:#808080;stroke-opacity:0.5;stroke-width:0.25;\"/>\n     </g>\n     <g id=\"line2d_36\"/>\n     <g id=\"text_18\">\n      <!-- Mar -->\n      <g transform=\"translate(349.988072 205.337188)scale(0.08 -0.08)\">\n       <use xlink:href=\"#DejaVuSans-4d\"/>\n       <use x=\"86.279297\" xlink:href=\"#DejaVuSans-61\"/>\n       <use x=\"147.558594\" xlink:href=\"#DejaVuSans-72\"/>\n      </g>\n     </g>\n    </g>\n    <g id=\"xtick_12\">\n     <g id=\"line2d_37\">\n      <path clip-path=\"url(#pab7639c127)\" d=\"M 386.192562 195.758438 \nL 386.192562 20.798438 \n\" style=\"fill:none;stroke:#808080;stroke-opacity:0.5;stroke-width:0.25;\"/>\n     </g>\n     <g id=\"line2d_38\"/>\n     <g id=\"text_19\">\n      <!-- Apr -->\n      <g transform=\"translate(379.272562 205.337188)scale(0.08 -0.08)\">\n       <use xlink:href=\"#DejaVuSans-41\"/>\n       <use x=\"68.408203\" xlink:href=\"#DejaVuSans-70\"/>\n       <use x=\"131.884766\" xlink:href=\"#DejaVuSans-72\"/>\n      </g>\n     </g>\n    </g>\n   </g>\n   <g id=\"matplotlib.axis_4\">\n    <g id=\"ytick_7\">\n     <g id=\"line2d_39\">\n      <path clip-path=\"url(#pab7639c127)\" d=\"M 236.063636 171.245105 \nL 406.9 171.245105 \n\" style=\"fill:none;stroke:#808080;stroke-opacity:0.5;stroke-width:0.25;\"/>\n     </g>\n     <g id=\"line2d_40\"/>\n    </g>\n    <g id=\"ytick_8\">\n     <g id=\"line2d_41\">\n      <path clip-path=\"url(#pab7639c127)\" d=\"M 236.063636 141.536945 \nL 406.9 141.536945 \n\" style=\"fill:none;stroke:#808080;stroke-opacity:0.5;stroke-width:0.25;\"/>\n     </g>\n     <g id=\"line2d_42\"/>\n    </g>\n    <g id=\"ytick_9\">\n     <g id=\"line2d_43\">\n      <path clip-path=\"url(#pab7639c127)\" d=\"M 236.063636 111.828785 \nL 406.9 111.828785 \n\" style=\"fill:none;stroke:#808080;stroke-opacity:0.5;stroke-width:0.25;\"/>\n     </g>\n     <g id=\"line2d_44\"/>\n    </g>\n    <g id=\"ytick_10\">\n     <g id=\"line2d_45\">\n      <path clip-path=\"url(#pab7639c127)\" d=\"M 236.063636 82.120626 \nL 406.9 82.120626 \n\" style=\"fill:none;stroke:#808080;stroke-opacity:0.5;stroke-width:0.25;\"/>\n     </g>\n     <g id=\"line2d_46\"/>\n    </g>\n    <g id=\"ytick_11\">\n     <g id=\"line2d_47\">\n      <path clip-path=\"url(#pab7639c127)\" d=\"M 236.063636 52.412466 \nL 406.9 52.412466 \n\" style=\"fill:none;stroke:#808080;stroke-opacity:0.5;stroke-width:0.25;\"/>\n     </g>\n     <g id=\"line2d_48\"/>\n    </g>\n    <g id=\"ytick_12\">\n     <g id=\"line2d_49\">\n      <path clip-path=\"url(#pab7639c127)\" d=\"M 236.063636 22.704307 \nL 406.9 22.704307 \n\" style=\"fill:none;stroke:#808080;stroke-opacity:0.5;stroke-width:0.25;\"/>\n     </g>\n     <g id=\"line2d_50\"/>\n    </g>\n   </g>\n   <g id=\"line2d_51\">\n    <path clip-path=\"url(#pab7639c127)\" d=\"M 246.602243 81.269992 \nL 250.3 77.401841 \nL 255.846635 73.123985 \nL 257.695514 77.461525 \nL 259.544392 76.286953 \nL 265.091027 71.218712 \nL 275.259858 60.030084 \nL 277.108737 59.866808 \nL 282.655372 53.492625 \nL 290.050885 49.839829 \nL 293.748642 49.11697 \nL 298.370838 57.325334 \nL 301.144156 56.900418 \nL 303.917473 56.371494 \nL 306.690791 53.780883 \nL 308.539669 51.454556 \nL 310.388548 50.531435 \nL 315.010744 48.145305 \nL 319.63294 45.50829 \nL 321.481818 43.880758 \nL 323.330697 42.531176 \nL 325.179575 41.90475 \nL 327.028453 41.719876 \nL 330.72621 50.325943 \nL 334.423967 46.487233 \nL 349.214994 45.171399 \nL 360.308264 45.777535 \nL 362.157143 45.149029 \nL 364.006021 43.816975 \nL 366.779339 39.728449 \nL 369.552656 45.866956 \nL 371.401535 45.47362 \nL 373.250413 45.33726 \nL 375.099292 43.02246 \nL 376.023731 42.136236 \nL 377.872609 41.060889 \nL 387.117001 28.751165 \nL 393.588076 32.841384 \nL 395.436954 31.79842 \nL 397.285832 31.671774 \nL 399.134711 31.178589 \n\" style=\"fill:none;stroke:#fdb927;stroke-width:2;\"/>\n   </g>\n   <g id=\"line2d_52\">\n    <path clip-path=\"url(#pab7639c127)\" d=\"M 246.602243 80.856692 \nL 252.148878 88.808527 \nL 253.997757 90.590452 \nL 258.619953 90.074748 \nL 260.468831 95.690957 \nL 265.091027 105.280691 \nL 266.939906 107.470361 \nL 269.713223 109.376377 \nL 271.562102 107.899703 \nL 281.730933 104.46648 \nL 283.579811 103.025158 \nL 286.353129 96.699252 \nL 292.824203 89.760941 \nL 294.673081 92.216617 \nL 297.446399 89.175066 \nL 302.068595 88.540737 \nL 303.917473 87.478166 \nL 310.388548 94.727254 \nL 316.859622 95.571173 \nL 326.104014 87.299471 \nL 332.575089 92.790074 \nL 336.272845 88.238962 \nL 338.121724 90.97033 \nL 340.895041 83.915147 \nL 348.290555 80.254686 \nL 351.063872 75.662102 \nL 352.912751 74.280672 \nL 360.308264 74.82751 \nL 364.006021 76.072698 \nL 366.779339 75.19702 \nL 368.628217 79.472559 \nL 370.477096 78.791767 \nL 373.250413 78.955548 \nL 375.099292 78.326953 \nL 376.94817 76.208256 \nL 378.797048 74.627723 \nL 386.192562 77.22487 \nL 389.890319 82.331465 \nL 391.739197 84.497397 \nL 394.512515 89.733876 \nL 397.285832 91.921377 \n\" style=\"fill:none;stroke:#007ac1;stroke-width:2;\"/>\n   </g>\n   <g id=\"patch_8\">\n    <path d=\"M 236.063636 195.758438 \nL 236.063636 20.798437 \n\" style=\"fill:none;stroke:#f0f0f0;stroke-linecap:square;stroke-linejoin:miter;stroke-width:3;\"/>\n   </g>\n   <g id=\"patch_9\">\n    <path d=\"M 406.9 195.758438 \nL 406.9 20.798437 \n\" style=\"fill:none;stroke:#f0f0f0;stroke-linecap:square;stroke-linejoin:miter;stroke-width:3;\"/>\n   </g>\n   <g id=\"patch_10\">\n    <path d=\"M 236.063636 195.758438 \nL 406.9 195.758438 \n\" style=\"fill:none;stroke:#f0f0f0;stroke-linecap:square;stroke-linejoin:miter;stroke-width:3;\"/>\n   </g>\n   <g id=\"patch_11\">\n    <path d=\"M 236.063636 20.798438 \nL 406.9 20.798438 \n\" style=\"fill:none;stroke:#f0f0f0;stroke-linecap:square;stroke-linejoin:miter;stroke-width:3;\"/>\n   </g>\n   <g id=\"text_20\">\n    <!-- Warriors vs Thunder -->\n    <g style=\"opacity:0.8;\" transform=\"translate(264.010724 14.798438)scale(0.1 -0.1)\">\n     <defs>\n      <path d=\"M 191 4666 \nL 1344 4666 \nL 2150 1275 \nL 2950 4666 \nL 4109 4666 \nL 4909 1275 \nL 5716 4666 \nL 6859 4666 \nL 5759 0 \nL 4372 0 \nL 3525 3547 \nL 2688 0 \nL 1300 0 \nL 191 4666 \nz\n\" id=\"DejaVuSans-Bold-57\" transform=\"scale(0.015625)\"/>\n      <path d=\"M 2106 1575 \nQ 1756 1575 1579 1456 \nQ 1403 1338 1403 1106 \nQ 1403 894 1545 773 \nQ 1688 653 1941 653 \nQ 2256 653 2472 879 \nQ 2688 1106 2688 1447 \nL 2688 1575 \nL 2106 1575 \nz\nM 3816 1997 \nL 3816 0 \nL 2688 0 \nL 2688 519 \nQ 2463 200 2181 54 \nQ 1900 -91 1497 -91 \nQ 953 -91 614 226 \nQ 275 544 275 1050 \nQ 275 1666 698 1953 \nQ 1122 2241 2028 2241 \nL 2688 2241 \nL 2688 2328 \nQ 2688 2594 2478 2717 \nQ 2269 2841 1825 2841 \nQ 1466 2841 1156 2769 \nQ 847 2697 581 2553 \nL 581 3406 \nQ 941 3494 1303 3539 \nQ 1666 3584 2028 3584 \nQ 2975 3584 3395 3211 \nQ 3816 2838 3816 1997 \nz\n\" id=\"DejaVuSans-Bold-61\" transform=\"scale(0.015625)\"/>\n      <path d=\"M 2203 2784 \nQ 1831 2784 1636 2517 \nQ 1441 2250 1441 1747 \nQ 1441 1244 1636 976 \nQ 1831 709 2203 709 \nQ 2569 709 2762 976 \nQ 2956 1244 2956 1747 \nQ 2956 2250 2762 2517 \nQ 2569 2784 2203 2784 \nz\nM 2203 3584 \nQ 3106 3584 3614 3096 \nQ 4122 2609 4122 1747 \nQ 4122 884 3614 396 \nQ 3106 -91 2203 -91 \nQ 1297 -91 786 396 \nQ 275 884 275 1747 \nQ 275 2609 786 3096 \nQ 1297 3584 2203 3584 \nz\n\" id=\"DejaVuSans-Bold-6f\" transform=\"scale(0.015625)\"/>\n      <path d=\"M 31 4666 \nL 4331 4666 \nL 4331 3756 \nL 2784 3756 \nL 2784 0 \nL 1581 0 \nL 1581 3756 \nL 31 3756 \nL 31 4666 \nz\n\" id=\"DejaVuSans-Bold-54\" transform=\"scale(0.015625)\"/>\n      <path d=\"M 4056 2131 \nL 4056 0 \nL 2931 0 \nL 2931 347 \nL 2931 1625 \nQ 2931 2084 2911 2256 \nQ 2891 2428 2841 2509 \nQ 2775 2619 2662 2680 \nQ 2550 2741 2406 2741 \nQ 2056 2741 1856 2470 \nQ 1656 2200 1656 1722 \nL 1656 0 \nL 538 0 \nL 538 4863 \nL 1656 4863 \nL 1656 2988 \nQ 1909 3294 2193 3439 \nQ 2478 3584 2822 3584 \nQ 3428 3584 3742 3212 \nQ 4056 2841 4056 2131 \nz\n\" id=\"DejaVuSans-Bold-68\" transform=\"scale(0.015625)\"/>\n      <path d=\"M 500 1363 \nL 500 3500 \nL 1625 3500 \nL 1625 3150 \nQ 1625 2866 1622 2436 \nQ 1619 2006 1619 1863 \nQ 1619 1441 1641 1255 \nQ 1663 1069 1716 984 \nQ 1784 875 1895 815 \nQ 2006 756 2150 756 \nQ 2500 756 2700 1025 \nQ 2900 1294 2900 1772 \nL 2900 3500 \nL 4019 3500 \nL 4019 0 \nL 2900 0 \nL 2900 506 \nQ 2647 200 2364 54 \nQ 2081 -91 1741 -91 \nQ 1134 -91 817 281 \nQ 500 653 500 1363 \nz\n\" id=\"DejaVuSans-Bold-75\" transform=\"scale(0.015625)\"/>\n      <path d=\"M 4056 2131 \nL 4056 0 \nL 2931 0 \nL 2931 347 \nL 2931 1631 \nQ 2931 2084 2911 2256 \nQ 2891 2428 2841 2509 \nQ 2775 2619 2662 2680 \nQ 2550 2741 2406 2741 \nQ 2056 2741 1856 2470 \nQ 1656 2200 1656 1722 \nL 1656 0 \nL 538 0 \nL 538 3500 \nL 1656 3500 \nL 1656 2988 \nQ 1909 3294 2193 3439 \nQ 2478 3584 2822 3584 \nQ 3428 3584 3742 3212 \nQ 4056 2841 4056 2131 \nz\n\" id=\"DejaVuSans-Bold-6e\" transform=\"scale(0.015625)\"/>\n      <path d=\"M 2919 2988 \nL 2919 4863 \nL 4044 4863 \nL 4044 0 \nL 2919 0 \nL 2919 506 \nQ 2688 197 2409 53 \nQ 2131 -91 1766 -91 \nQ 1119 -91 703 423 \nQ 288 938 288 1747 \nQ 288 2556 703 3070 \nQ 1119 3584 1766 3584 \nQ 2128 3584 2408 3439 \nQ 2688 3294 2919 2988 \nz\nM 2181 722 \nQ 2541 722 2730 984 \nQ 2919 1247 2919 1747 \nQ 2919 2247 2730 2509 \nQ 2541 2772 2181 2772 \nQ 1825 2772 1636 2509 \nQ 1447 2247 1447 1747 \nQ 1447 1247 1636 984 \nQ 1825 722 2181 722 \nz\n\" id=\"DejaVuSans-Bold-64\" transform=\"scale(0.015625)\"/>\n     </defs>\n     <use xlink:href=\"#DejaVuSans-Bold-57\"/>\n     <use x=\"106.677734\" xlink:href=\"#DejaVuSans-Bold-61\"/>\n     <use x=\"174.158203\" xlink:href=\"#DejaVuSans-Bold-72\"/>\n     <use x=\"223.474609\" xlink:href=\"#DejaVuSans-Bold-72\"/>\n     <use x=\"272.791016\" xlink:href=\"#DejaVuSans-Bold-69\"/>\n     <use x=\"307.068359\" xlink:href=\"#DejaVuSans-Bold-6f\"/>\n     <use x=\"375.769531\" xlink:href=\"#DejaVuSans-Bold-72\"/>\n     <use x=\"425.085938\" xlink:href=\"#DejaVuSans-Bold-73\"/>\n     <use x=\"484.607422\" xlink:href=\"#DejaVuSans-Bold-20\"/>\n     <use x=\"519.421875\" xlink:href=\"#DejaVuSans-Bold-76\"/>\n     <use x=\"584.607422\" xlink:href=\"#DejaVuSans-Bold-73\"/>\n     <use x=\"644.128906\" xlink:href=\"#DejaVuSans-Bold-20\"/>\n     <use x=\"678.943359\" xlink:href=\"#DejaVuSans-Bold-54\"/>\n     <use x=\"747.15625\" xlink:href=\"#DejaVuSans-Bold-68\"/>\n     <use x=\"818.347656\" xlink:href=\"#DejaVuSans-Bold-75\"/>\n     <use x=\"889.539062\" xlink:href=\"#DejaVuSans-Bold-6e\"/>\n     <use x=\"960.730469\" xlink:href=\"#DejaVuSans-Bold-64\"/>\n     <use x=\"1032.3125\" xlink:href=\"#DejaVuSans-Bold-65\"/>\n     <use x=\"1100.134766\" xlink:href=\"#DejaVuSans-Bold-72\"/>\n    </g>\n   </g>\n  </g>\n </g>\n <defs>\n  <clipPath id=\"p32f70d4509\">\n   <rect height=\"174.96\" width=\"170.836364\" x=\"31.06\" y=\"20.798438\"/>\n  </clipPath>\n  <clipPath id=\"pab7639c127\">\n   <rect height=\"174.96\" width=\"170.836364\" x=\"236.063636\" y=\"20.798438\"/>\n  </clipPath>\n </defs>\n</svg>\n",
      "text/plain": [
       "<Figure size 432x216 with 2 Axes>"
      ]
     },
     "metadata": {},
     "output_type": "display_data"
    }
   ],
   "source": [
    "fig, ax = plt.subplots(nrows=1, ncols=2,figsize=(6,3),sharex=True, sharey=True)\n",
    "\n",
    "ax[0].plot(df[df[\"home\"]==\"Sixers\"].date, df[df[\"home\"]==\"Sixers\"].home_elo, color='#43a2ca',linewidth=2)\n",
    "ax[0].plot(df[df[\"home\"]==\"Celtics\"].date, df[df[\"home\"]==\"Celtics\"].home_elo, color='#007A33',linewidth=2)\n",
    "\n",
    "ax[0].set_title(\"Sixers vs Celtics\", color = '#000000', alpha=0.8,fontsize=10, fontweight='bold', ha = 'center') \n",
    "ax[0].tick_params(labelsize=8)\n",
    "\n",
    "ax[1].plot(df[df[\"home\"]==\"Warriors\"].date, df[df[\"home\"]==\"Warriors\"].home_elo, color='#FDB927',linewidth=2)\n",
    "ax[1].plot(df[df[\"home\"]==\"Thunder\"].date, df[df[\"home\"]==\"Thunder\"].home_elo, color='#007AC1',linewidth=2)\n",
    "\n",
    "ax[1].set_title(\"Warriors vs Thunder\", color = '#000000', alpha=0.8, fontsize=10, fontweight='bold', ha = 'center') \n",
    "ax[1].tick_params(labelsize=8)\n",
    "\n",
    "ax[0].grid(color='grey', linestyle='-', linewidth=0.25, alpha=0.5)\n",
    "ax[1].grid(color='grey', linestyle='-', linewidth=0.25, alpha=0.5)\n",
    "\n",
    "import matplotlib.dates as mdates\n",
    "myFmt = mdates.DateFormatter('%b')\n",
    "ax[0].xaxis.set_major_formatter(myFmt)\n",
    "#plt.savefig('elo.svg')"
   ]
  },
  {
   "cell_type": "code",
   "execution_count": 12,
   "metadata": {},
   "outputs": [
    {
     "data": {
      "text/plain": [
       "0.5747967479674797"
      ]
     },
     "execution_count": 12,
     "metadata": {},
     "output_type": "execute_result"
    }
   ],
   "source": [
    "# Establish Baseline\n",
    "# Naive Model\n",
    "\n",
    "y = df['winner'] # true y\n",
    "y_hat = df['home'] # predict winner based on home team winning\n",
    "accuracy_score(y, y_hat)"
   ]
  },
  {
   "cell_type": "markdown",
   "metadata": {},
   "source": [
    "Brier Score\n",
    "\n",
    "$$\\frac{1}{N} \\sum_{i=1}^{N}(p_{i} - o_{i})^{2}$$\n",
    "\n",
    "By definition, the Brier score measures the mean squared difference between the predicted probability $p_{i}$ assigned to the possible outcomes $o_{i}$ for all i and the actual outcome.\n",
    "\n",
    "Mathematically, the Brier score always takes on a value between zero and one, since this is the largest possible difference between a predicted probability (which must be between zero and one) and the actual outcome (which can take on values of only 0 and 1).\n",
    "\n",
    "Roughly speaking, the Brief score mimics a MSE for regression problems in the classification case, such as predicting binary outcomes. Therefore, the lower the Brier score is for a set of predictions, the better the predictions are calibrated.\n",
    "\n",
    "Like the Elo, it penalizes wrong predictions heavily when you are sure of an outcome (e.g. upsets in sports). This is not necessarily captured in accuracy, so it is a good supplement metric when evaluating models.\n",
    "\n",
    "In other words, it calibrates the predictions. You predicted that good teams when they SHOULD win, and predicted that losses when they SHOULD lose. When you were unsure, it SHOULD be a coin toss! That is a good model."
   ]
  },
  {
   "cell_type": "code",
   "execution_count": 13,
   "metadata": {},
   "outputs": [
    {
     "data": {
      "text/plain": [
       "0.42520325203252035"
      ]
     },
     "execution_count": 13,
     "metadata": {},
     "output_type": "execute_result"
    }
   ],
   "source": [
    "# Naive Model: Brier Score\n",
    "# To calculate the Brier score we need the true probabilities and the predicted probabilities\n",
    "\n",
    "# true y\n",
    "# 100% for correct prediction\n",
    "# 0% for incorrect prediction\n",
    "df[\"y\"] = df.apply(lambda row: 1 if row.home == row.winner else 0,axis=1)\n",
    "y = df[\"y\"]\n",
    "\n",
    "# y_prob is the probability of winning for home team \n",
    "# probability of winning is 100% if you're home and if you're 0% away\n",
    "df['predict_home_win'] = np.ones(len(y))\n",
    "y_prob = df.predict_home_win\n",
    "\n",
    "brier_score_loss(y, y_prob, pos_label=1)"
   ]
  },
  {
   "cell_type": "code",
   "execution_count": 14,
   "metadata": {},
   "outputs": [
    {
     "data": {
      "text/plain": [
       "0.6707317073170732"
      ]
     },
     "execution_count": 14,
     "metadata": {},
     "output_type": "execute_result"
    }
   ],
   "source": [
    "# Elo Model\n",
    "# What if we tried to be smarter? Are we able to create a model with Elo that is more accurate?\n",
    "\n",
    "# calculate the probability of winning for the home team using elo\n",
    "def prob(home_elo, away_elo):\n",
    "    expected_home = 1 / ( 1 + 10**((away_elo - home_elo)/400) )\n",
    "    expected_away = 1 - expected_home\n",
    "    return expected_home, expected_away\n",
    "\n",
    "df['predict_home_elo_win'] = df.apply(lambda row: prob(row.home_elo, row.visitor_elo)[0], axis=1)\n",
    "# predict home win if % is greater than 50%\n",
    "df['predict_elo'] = np.where(df.predict_home_elo_win >= 0.5, df.home, df.visitor)\n",
    "y = df['winner'] # true y\n",
    "y_hat = df.predict_elo  # predict winner based on home team winning\n",
    "y_prob = df.predict_home_elo_win # probability of home team winning\n",
    "accuracy_score(y, y_hat)\n",
    "# so, predicting on elo, is 67% accurate! This is already better than only predicting the home team."
   ]
  },
  {
   "cell_type": "code",
   "execution_count": 15,
   "metadata": {},
   "outputs": [
    {
     "data": {
      "text/plain": [
       "0.21094193773599698"
      ]
     },
     "execution_count": 15,
     "metadata": {},
     "output_type": "execute_result"
    }
   ],
   "source": [
    "# Elo Model: Brier Score\n",
    "# To calculate the Brier score we need the true probabilities and the predicted probabilities\n",
    "# true y\n",
    "y = df[\"y\"]\n",
    "\n",
    "# y_prob is the probability of winning for home team\n",
    "y_prob = df[\"predict_home_elo_win\"]\n",
    "\n",
    "brier_score_loss(y, y_prob, pos_label=1) "
   ]
  },
  {
   "cell_type": "code",
   "execution_count": 18,
   "metadata": {},
   "outputs": [
    {
     "name": "stdout",
     "output_type": "stream",
     "text": [
      "21.09%\n"
     ]
    }
   ],
   "source": []
  },
  {
   "cell_type": "code",
   "execution_count": 20,
   "metadata": {},
   "outputs": [
    {
     "data": {
      "text/html": [
       "<div>\n",
       "<style scoped>\n",
       "    .dataframe tbody tr th:only-of-type {\n",
       "        vertical-align: middle;\n",
       "    }\n",
       "\n",
       "    .dataframe tbody tr th {\n",
       "        vertical-align: top;\n",
       "    }\n",
       "\n",
       "    .dataframe thead th {\n",
       "        text-align: right;\n",
       "    }\n",
       "</style>\n",
       "<table border=\"1\" class=\"dataframe\">\n",
       "  <thead>\n",
       "    <tr style=\"text-align: right;\">\n",
       "      <th></th>\n",
       "      <th>Metric</th>\n",
       "      <th>Prediction based on Home</th>\n",
       "      <th>Prediction based on Elo</th>\n",
       "      <th>Delta</th>\n",
       "    </tr>\n",
       "  </thead>\n",
       "  <tbody>\n",
       "    <tr>\n",
       "      <th>0</th>\n",
       "      <td>Accuracy</td>\n",
       "      <td>57.48%</td>\n",
       "      <td>67.07%</td>\n",
       "      <td>9%</td>\n",
       "    </tr>\n",
       "    <tr>\n",
       "      <th>1</th>\n",
       "      <td>Brier Score</td>\n",
       "      <td>42.52%</td>\n",
       "      <td>21.09%</td>\n",
       "      <td>22%</td>\n",
       "    </tr>\n",
       "  </tbody>\n",
       "</table>\n",
       "</div>"
      ],
      "text/plain": [
       "        Metric Prediction based on Home Prediction based on Elo Delta\n",
       "0     Accuracy                   57.48%                  67.07%    9%\n",
       "1  Brier Score                   42.52%                  21.09%   22%"
      ]
     },
     "execution_count": 20,
     "metadata": {},
     "output_type": "execute_result"
    }
   ],
   "source": [
    "pd.DataFrame({\n",
    "    'Metric': ['Accuracy', 'Brier Score'],\n",
    "    'Prediction based on Home': [f'{0.5747967479674797:.2%}', f'{0.42520325203252035:.2%}'],\n",
    "    'Prediction based on Elo': [f'{0.6707317073170732:.2%}', f'{brier_score_loss(y, y_prob, pos_label=1):.2%}'],\n",
    "    'Delta': ['9%', '22%']\n",
    "})\n",
    "\n",
    "# Not only was the Elo model more accurate than naive model, it has a lower brier score, which suggests its predictions were better forecast.\n",
    "# In this particular dataset, accuracy was able to pick up the model improvement, but when I used on a different data set (e.g. NHL), this was not the case.\n",
    "# # Brier score is able to pick up improvements that may otherwise be masked.\n",
    "\n",
    "#Along side typical metrics such as accuracy, and area under the curve, now you can be armed with another tool to evaluate your models!"
   ]
  },
  {
   "cell_type": "code",
   "execution_count": 21,
   "metadata": {},
   "outputs": [
    {
     "data": {
      "image/svg+xml": "<?xml version=\"1.0\" encoding=\"utf-8\" standalone=\"no\"?>\n<!DOCTYPE svg PUBLIC \"-//W3C//DTD SVG 1.1//EN\"\n  \"http://www.w3.org/Graphics/SVG/1.1/DTD/svg11.dtd\">\n<svg height=\"227.879063pt\" version=\"1.1\" viewBox=\"0 0 354.958125 227.879063\" width=\"354.958125pt\" xmlns=\"http://www.w3.org/2000/svg\" xmlns:xlink=\"http://www.w3.org/1999/xlink\">\n <metadata>\n  <rdf:RDF xmlns:cc=\"http://creativecommons.org/ns#\" xmlns:dc=\"http://purl.org/dc/elements/1.1/\" xmlns:rdf=\"http://www.w3.org/1999/02/22-rdf-syntax-ns#\">\n   <cc:Work>\n    <dc:type rdf:resource=\"http://purl.org/dc/dcmitype/StillImage\"/>\n    <dc:date>2022-09-06T11:24:22.950195</dc:date>\n    <dc:format>image/svg+xml</dc:format>\n    <dc:creator>\n     <cc:Agent>\n      <dc:title>Matplotlib v3.4.3, https://matplotlib.org/</dc:title>\n     </cc:Agent>\n    </dc:creator>\n   </cc:Work>\n  </rdf:RDF>\n </metadata>\n <defs>\n  <style type=\"text/css\">*{stroke-linecap:butt;stroke-linejoin:round;}</style>\n </defs>\n <g id=\"figure_1\">\n  <g id=\"patch_1\">\n   <path d=\"M 0 227.879063 \nL 354.958125 227.879063 \nL 354.958125 0 \nL 0 0 \nz\n\" style=\"fill:#f0f0f0;\"/>\n  </g>\n  <g id=\"axes_1\">\n   <g id=\"patch_2\">\n    <path d=\"M 34.558125 195.758438 \nL 347.758125 195.758438 \nL 347.758125 20.798437 \nL 34.558125 20.798437 \nz\n\" style=\"fill:#f0f0f0;\"/>\n   </g>\n   <g id=\"matplotlib.axis_1\">\n    <g id=\"xtick_1\">\n     <g id=\"line2d_1\">\n      <path clip-path=\"url(#pc3253a58fd)\" d=\"M 93.816525 195.758438 \nL 93.816525 20.798437 \n\" style=\"fill:none;stroke:#808080;stroke-opacity:0.5;stroke-width:0.25;\"/>\n     </g>\n     <g id=\"line2d_2\"/>\n     <g id=\"text_1\">\n      <!-- 0.2 -->\n      <g transform=\"translate(87.455275 205.337188)scale(0.08 -0.08)\">\n       <defs>\n        <path d=\"M 2034 4250 \nQ 1547 4250 1301 3770 \nQ 1056 3291 1056 2328 \nQ 1056 1369 1301 889 \nQ 1547 409 2034 409 \nQ 2525 409 2770 889 \nQ 3016 1369 3016 2328 \nQ 3016 3291 2770 3770 \nQ 2525 4250 2034 4250 \nz\nM 2034 4750 \nQ 2819 4750 3233 4129 \nQ 3647 3509 3647 2328 \nQ 3647 1150 3233 529 \nQ 2819 -91 2034 -91 \nQ 1250 -91 836 529 \nQ 422 1150 422 2328 \nQ 422 3509 836 4129 \nQ 1250 4750 2034 4750 \nz\n\" id=\"DejaVuSans-30\" transform=\"scale(0.015625)\"/>\n        <path d=\"M 684 794 \nL 1344 794 \nL 1344 0 \nL 684 0 \nL 684 794 \nz\n\" id=\"DejaVuSans-2e\" transform=\"scale(0.015625)\"/>\n        <path d=\"M 1228 531 \nL 3431 531 \nL 3431 0 \nL 469 0 \nL 469 531 \nQ 828 903 1448 1529 \nQ 2069 2156 2228 2338 \nQ 2531 2678 2651 2914 \nQ 2772 3150 2772 3378 \nQ 2772 3750 2511 3984 \nQ 2250 4219 1831 4219 \nQ 1534 4219 1204 4116 \nQ 875 4013 500 3803 \nL 500 4441 \nQ 881 4594 1212 4672 \nQ 1544 4750 1819 4750 \nQ 2544 4750 2975 4387 \nQ 3406 4025 3406 3419 \nQ 3406 3131 3298 2873 \nQ 3191 2616 2906 2266 \nQ 2828 2175 2409 1742 \nQ 1991 1309 1228 531 \nz\n\" id=\"DejaVuSans-32\" transform=\"scale(0.015625)\"/>\n       </defs>\n       <use xlink:href=\"#DejaVuSans-30\"/>\n       <use x=\"63.623047\" xlink:href=\"#DejaVuSans-2e\"/>\n       <use x=\"95.410156\" xlink:href=\"#DejaVuSans-32\"/>\n      </g>\n     </g>\n    </g>\n    <g id=\"xtick_2\">\n     <g id=\"line2d_3\">\n      <path clip-path=\"url(#pc3253a58fd)\" d=\"M 158.248375 195.758438 \nL 158.248375 20.798437 \n\" style=\"fill:none;stroke:#808080;stroke-opacity:0.5;stroke-width:0.25;\"/>\n     </g>\n     <g id=\"line2d_4\"/>\n     <g id=\"text_2\">\n      <!-- 0.4 -->\n      <g transform=\"translate(151.887125 205.337188)scale(0.08 -0.08)\">\n       <defs>\n        <path d=\"M 2419 4116 \nL 825 1625 \nL 2419 1625 \nL 2419 4116 \nz\nM 2253 4666 \nL 3047 4666 \nL 3047 1625 \nL 3713 1625 \nL 3713 1100 \nL 3047 1100 \nL 3047 0 \nL 2419 0 \nL 2419 1100 \nL 313 1100 \nL 313 1709 \nL 2253 4666 \nz\n\" id=\"DejaVuSans-34\" transform=\"scale(0.015625)\"/>\n       </defs>\n       <use xlink:href=\"#DejaVuSans-30\"/>\n       <use x=\"63.623047\" xlink:href=\"#DejaVuSans-2e\"/>\n       <use x=\"95.410156\" xlink:href=\"#DejaVuSans-34\"/>\n      </g>\n     </g>\n    </g>\n    <g id=\"xtick_3\">\n     <g id=\"line2d_5\">\n      <path clip-path=\"url(#pc3253a58fd)\" d=\"M 222.680224 195.758438 \nL 222.680224 20.798437 \n\" style=\"fill:none;stroke:#808080;stroke-opacity:0.5;stroke-width:0.25;\"/>\n     </g>\n     <g id=\"line2d_6\"/>\n     <g id=\"text_3\">\n      <!-- 0.6 -->\n      <g transform=\"translate(216.318974 205.337188)scale(0.08 -0.08)\">\n       <defs>\n        <path d=\"M 2113 2584 \nQ 1688 2584 1439 2293 \nQ 1191 2003 1191 1497 \nQ 1191 994 1439 701 \nQ 1688 409 2113 409 \nQ 2538 409 2786 701 \nQ 3034 994 3034 1497 \nQ 3034 2003 2786 2293 \nQ 2538 2584 2113 2584 \nz\nM 3366 4563 \nL 3366 3988 \nQ 3128 4100 2886 4159 \nQ 2644 4219 2406 4219 \nQ 1781 4219 1451 3797 \nQ 1122 3375 1075 2522 \nQ 1259 2794 1537 2939 \nQ 1816 3084 2150 3084 \nQ 2853 3084 3261 2657 \nQ 3669 2231 3669 1497 \nQ 3669 778 3244 343 \nQ 2819 -91 2113 -91 \nQ 1303 -91 875 529 \nQ 447 1150 447 2328 \nQ 447 3434 972 4092 \nQ 1497 4750 2381 4750 \nQ 2619 4750 2861 4703 \nQ 3103 4656 3366 4563 \nz\n\" id=\"DejaVuSans-36\" transform=\"scale(0.015625)\"/>\n       </defs>\n       <use xlink:href=\"#DejaVuSans-30\"/>\n       <use x=\"63.623047\" xlink:href=\"#DejaVuSans-2e\"/>\n       <use x=\"95.410156\" xlink:href=\"#DejaVuSans-36\"/>\n      </g>\n     </g>\n    </g>\n    <g id=\"xtick_4\">\n     <g id=\"line2d_7\">\n      <path clip-path=\"url(#pc3253a58fd)\" d=\"M 287.112074 195.758438 \nL 287.112074 20.798437 \n\" style=\"fill:none;stroke:#808080;stroke-opacity:0.5;stroke-width:0.25;\"/>\n     </g>\n     <g id=\"line2d_8\"/>\n     <g id=\"text_4\">\n      <!-- 0.8 -->\n      <g transform=\"translate(280.750824 205.337188)scale(0.08 -0.08)\">\n       <defs>\n        <path d=\"M 2034 2216 \nQ 1584 2216 1326 1975 \nQ 1069 1734 1069 1313 \nQ 1069 891 1326 650 \nQ 1584 409 2034 409 \nQ 2484 409 2743 651 \nQ 3003 894 3003 1313 \nQ 3003 1734 2745 1975 \nQ 2488 2216 2034 2216 \nz\nM 1403 2484 \nQ 997 2584 770 2862 \nQ 544 3141 544 3541 \nQ 544 4100 942 4425 \nQ 1341 4750 2034 4750 \nQ 2731 4750 3128 4425 \nQ 3525 4100 3525 3541 \nQ 3525 3141 3298 2862 \nQ 3072 2584 2669 2484 \nQ 3125 2378 3379 2068 \nQ 3634 1759 3634 1313 \nQ 3634 634 3220 271 \nQ 2806 -91 2034 -91 \nQ 1263 -91 848 271 \nQ 434 634 434 1313 \nQ 434 1759 690 2068 \nQ 947 2378 1403 2484 \nz\nM 1172 3481 \nQ 1172 3119 1398 2916 \nQ 1625 2713 2034 2713 \nQ 2441 2713 2670 2916 \nQ 2900 3119 2900 3481 \nQ 2900 3844 2670 4047 \nQ 2441 4250 2034 4250 \nQ 1625 4250 1398 4047 \nQ 1172 3844 1172 3481 \nz\n\" id=\"DejaVuSans-38\" transform=\"scale(0.015625)\"/>\n       </defs>\n       <use xlink:href=\"#DejaVuSans-30\"/>\n       <use x=\"63.623047\" xlink:href=\"#DejaVuSans-2e\"/>\n       <use x=\"95.410156\" xlink:href=\"#DejaVuSans-38\"/>\n      </g>\n     </g>\n    </g>\n    <g id=\"text_5\">\n     <!-- probability -->\n     <g transform=\"translate(164.482344 218.599375)scale(0.1 -0.1)\">\n      <defs>\n       <path d=\"M 1159 525 \nL 1159 -1331 \nL 581 -1331 \nL 581 3500 \nL 1159 3500 \nL 1159 2969 \nQ 1341 3281 1617 3432 \nQ 1894 3584 2278 3584 \nQ 2916 3584 3314 3078 \nQ 3713 2572 3713 1747 \nQ 3713 922 3314 415 \nQ 2916 -91 2278 -91 \nQ 1894 -91 1617 61 \nQ 1341 213 1159 525 \nz\nM 3116 1747 \nQ 3116 2381 2855 2742 \nQ 2594 3103 2138 3103 \nQ 1681 3103 1420 2742 \nQ 1159 2381 1159 1747 \nQ 1159 1113 1420 752 \nQ 1681 391 2138 391 \nQ 2594 391 2855 752 \nQ 3116 1113 3116 1747 \nz\n\" id=\"DejaVuSans-70\" transform=\"scale(0.015625)\"/>\n       <path d=\"M 2631 2963 \nQ 2534 3019 2420 3045 \nQ 2306 3072 2169 3072 \nQ 1681 3072 1420 2755 \nQ 1159 2438 1159 1844 \nL 1159 0 \nL 581 0 \nL 581 3500 \nL 1159 3500 \nL 1159 2956 \nQ 1341 3275 1631 3429 \nQ 1922 3584 2338 3584 \nQ 2397 3584 2469 3576 \nQ 2541 3569 2628 3553 \nL 2631 2963 \nz\n\" id=\"DejaVuSans-72\" transform=\"scale(0.015625)\"/>\n       <path d=\"M 1959 3097 \nQ 1497 3097 1228 2736 \nQ 959 2375 959 1747 \nQ 959 1119 1226 758 \nQ 1494 397 1959 397 \nQ 2419 397 2687 759 \nQ 2956 1122 2956 1747 \nQ 2956 2369 2687 2733 \nQ 2419 3097 1959 3097 \nz\nM 1959 3584 \nQ 2709 3584 3137 3096 \nQ 3566 2609 3566 1747 \nQ 3566 888 3137 398 \nQ 2709 -91 1959 -91 \nQ 1206 -91 779 398 \nQ 353 888 353 1747 \nQ 353 2609 779 3096 \nQ 1206 3584 1959 3584 \nz\n\" id=\"DejaVuSans-6f\" transform=\"scale(0.015625)\"/>\n       <path d=\"M 3116 1747 \nQ 3116 2381 2855 2742 \nQ 2594 3103 2138 3103 \nQ 1681 3103 1420 2742 \nQ 1159 2381 1159 1747 \nQ 1159 1113 1420 752 \nQ 1681 391 2138 391 \nQ 2594 391 2855 752 \nQ 3116 1113 3116 1747 \nz\nM 1159 2969 \nQ 1341 3281 1617 3432 \nQ 1894 3584 2278 3584 \nQ 2916 3584 3314 3078 \nQ 3713 2572 3713 1747 \nQ 3713 922 3314 415 \nQ 2916 -91 2278 -91 \nQ 1894 -91 1617 61 \nQ 1341 213 1159 525 \nL 1159 0 \nL 581 0 \nL 581 4863 \nL 1159 4863 \nL 1159 2969 \nz\n\" id=\"DejaVuSans-62\" transform=\"scale(0.015625)\"/>\n       <path d=\"M 2194 1759 \nQ 1497 1759 1228 1600 \nQ 959 1441 959 1056 \nQ 959 750 1161 570 \nQ 1363 391 1709 391 \nQ 2188 391 2477 730 \nQ 2766 1069 2766 1631 \nL 2766 1759 \nL 2194 1759 \nz\nM 3341 1997 \nL 3341 0 \nL 2766 0 \nL 2766 531 \nQ 2569 213 2275 61 \nQ 1981 -91 1556 -91 \nQ 1019 -91 701 211 \nQ 384 513 384 1019 \nQ 384 1609 779 1909 \nQ 1175 2209 1959 2209 \nL 2766 2209 \nL 2766 2266 \nQ 2766 2663 2505 2880 \nQ 2244 3097 1772 3097 \nQ 1472 3097 1187 3025 \nQ 903 2953 641 2809 \nL 641 3341 \nQ 956 3463 1253 3523 \nQ 1550 3584 1831 3584 \nQ 2591 3584 2966 3190 \nQ 3341 2797 3341 1997 \nz\n\" id=\"DejaVuSans-61\" transform=\"scale(0.015625)\"/>\n       <path d=\"M 603 3500 \nL 1178 3500 \nL 1178 0 \nL 603 0 \nL 603 3500 \nz\nM 603 4863 \nL 1178 4863 \nL 1178 4134 \nL 603 4134 \nL 603 4863 \nz\n\" id=\"DejaVuSans-69\" transform=\"scale(0.015625)\"/>\n       <path d=\"M 603 4863 \nL 1178 4863 \nL 1178 0 \nL 603 0 \nL 603 4863 \nz\n\" id=\"DejaVuSans-6c\" transform=\"scale(0.015625)\"/>\n       <path d=\"M 1172 4494 \nL 1172 3500 \nL 2356 3500 \nL 2356 3053 \nL 1172 3053 \nL 1172 1153 \nQ 1172 725 1289 603 \nQ 1406 481 1766 481 \nL 2356 481 \nL 2356 0 \nL 1766 0 \nQ 1100 0 847 248 \nQ 594 497 594 1153 \nL 594 3053 \nL 172 3053 \nL 172 3500 \nL 594 3500 \nL 594 4494 \nL 1172 4494 \nz\n\" id=\"DejaVuSans-74\" transform=\"scale(0.015625)\"/>\n       <path d=\"M 2059 -325 \nQ 1816 -950 1584 -1140 \nQ 1353 -1331 966 -1331 \nL 506 -1331 \nL 506 -850 \nL 844 -850 \nQ 1081 -850 1212 -737 \nQ 1344 -625 1503 -206 \nL 1606 56 \nL 191 3500 \nL 800 3500 \nL 1894 763 \nL 2988 3500 \nL 3597 3500 \nL 2059 -325 \nz\n\" id=\"DejaVuSans-79\" transform=\"scale(0.015625)\"/>\n      </defs>\n      <use xlink:href=\"#DejaVuSans-70\"/>\n      <use x=\"63.476562\" xlink:href=\"#DejaVuSans-72\"/>\n      <use x=\"102.339844\" xlink:href=\"#DejaVuSans-6f\"/>\n      <use x=\"163.521484\" xlink:href=\"#DejaVuSans-62\"/>\n      <use x=\"226.998047\" xlink:href=\"#DejaVuSans-61\"/>\n      <use x=\"288.277344\" xlink:href=\"#DejaVuSans-62\"/>\n      <use x=\"351.753906\" xlink:href=\"#DejaVuSans-69\"/>\n      <use x=\"379.537109\" xlink:href=\"#DejaVuSans-6c\"/>\n      <use x=\"407.320312\" xlink:href=\"#DejaVuSans-69\"/>\n      <use x=\"435.103516\" xlink:href=\"#DejaVuSans-74\"/>\n      <use x=\"474.3125\" xlink:href=\"#DejaVuSans-79\"/>\n     </g>\n    </g>\n   </g>\n   <g id=\"matplotlib.axis_2\">\n    <g id=\"ytick_1\">\n     <g id=\"line2d_9\">\n      <path clip-path=\"url(#pc3253a58fd)\" d=\"M 34.558125 195.758438 \nL 347.758125 195.758438 \n\" style=\"fill:none;stroke:#808080;stroke-opacity:0.5;stroke-width:0.25;\"/>\n     </g>\n     <g id=\"line2d_10\"/>\n     <g id=\"text_6\">\n      <!-- 0 -->\n      <g transform=\"translate(25.968125 198.797813)scale(0.08 -0.08)\">\n       <use xlink:href=\"#DejaVuSans-30\"/>\n      </g>\n     </g>\n    </g>\n    <g id=\"ytick_2\">\n     <g id=\"line2d_11\">\n      <path clip-path=\"url(#pc3253a58fd)\" d=\"M 34.558125 159.924336 \nL 347.758125 159.924336 \n\" style=\"fill:none;stroke:#808080;stroke-opacity:0.5;stroke-width:0.25;\"/>\n     </g>\n     <g id=\"line2d_12\"/>\n     <g id=\"text_7\">\n      <!-- 20 -->\n      <g transform=\"translate(20.878125 162.963711)scale(0.08 -0.08)\">\n       <use xlink:href=\"#DejaVuSans-32\"/>\n       <use x=\"63.623047\" xlink:href=\"#DejaVuSans-30\"/>\n      </g>\n     </g>\n    </g>\n    <g id=\"ytick_3\">\n     <g id=\"line2d_13\">\n      <path clip-path=\"url(#pc3253a58fd)\" d=\"M 34.558125 124.090235 \nL 347.758125 124.090235 \n\" style=\"fill:none;stroke:#808080;stroke-opacity:0.5;stroke-width:0.25;\"/>\n     </g>\n     <g id=\"line2d_14\"/>\n     <g id=\"text_8\">\n      <!-- 40 -->\n      <g transform=\"translate(20.878125 127.12961)scale(0.08 -0.08)\">\n       <use xlink:href=\"#DejaVuSans-34\"/>\n       <use x=\"63.623047\" xlink:href=\"#DejaVuSans-30\"/>\n      </g>\n     </g>\n    </g>\n    <g id=\"ytick_4\">\n     <g id=\"line2d_15\">\n      <path clip-path=\"url(#pc3253a58fd)\" d=\"M 34.558125 88.256133 \nL 347.758125 88.256133 \n\" style=\"fill:none;stroke:#808080;stroke-opacity:0.5;stroke-width:0.25;\"/>\n     </g>\n     <g id=\"line2d_16\"/>\n     <g id=\"text_9\">\n      <!-- 60 -->\n      <g transform=\"translate(20.878125 91.295508)scale(0.08 -0.08)\">\n       <use xlink:href=\"#DejaVuSans-36\"/>\n       <use x=\"63.623047\" xlink:href=\"#DejaVuSans-30\"/>\n      </g>\n     </g>\n    </g>\n    <g id=\"ytick_5\">\n     <g id=\"line2d_17\">\n      <path clip-path=\"url(#pc3253a58fd)\" d=\"M 34.558125 52.422032 \nL 347.758125 52.422032 \n\" style=\"fill:none;stroke:#808080;stroke-opacity:0.5;stroke-width:0.25;\"/>\n     </g>\n     <g id=\"line2d_18\"/>\n     <g id=\"text_10\">\n      <!-- 80 -->\n      <g transform=\"translate(20.878125 55.461407)scale(0.08 -0.08)\">\n       <use xlink:href=\"#DejaVuSans-38\"/>\n       <use x=\"63.623047\" xlink:href=\"#DejaVuSans-30\"/>\n      </g>\n     </g>\n    </g>\n    <g id=\"text_11\">\n     <!-- count -->\n     <g transform=\"translate(14.798438 122.384688)rotate(-90)scale(0.1 -0.1)\">\n      <defs>\n       <path d=\"M 3122 3366 \nL 3122 2828 \nQ 2878 2963 2633 3030 \nQ 2388 3097 2138 3097 \nQ 1578 3097 1268 2742 \nQ 959 2388 959 1747 \nQ 959 1106 1268 751 \nQ 1578 397 2138 397 \nQ 2388 397 2633 464 \nQ 2878 531 3122 666 \nL 3122 134 \nQ 2881 22 2623 -34 \nQ 2366 -91 2075 -91 \nQ 1284 -91 818 406 \nQ 353 903 353 1747 \nQ 353 2603 823 3093 \nQ 1294 3584 2113 3584 \nQ 2378 3584 2631 3529 \nQ 2884 3475 3122 3366 \nz\n\" id=\"DejaVuSans-63\" transform=\"scale(0.015625)\"/>\n       <path d=\"M 544 1381 \nL 544 3500 \nL 1119 3500 \nL 1119 1403 \nQ 1119 906 1312 657 \nQ 1506 409 1894 409 \nQ 2359 409 2629 706 \nQ 2900 1003 2900 1516 \nL 2900 3500 \nL 3475 3500 \nL 3475 0 \nL 2900 0 \nL 2900 538 \nQ 2691 219 2414 64 \nQ 2138 -91 1772 -91 \nQ 1169 -91 856 284 \nQ 544 659 544 1381 \nz\nM 1991 3584 \nL 1991 3584 \nz\n\" id=\"DejaVuSans-75\" transform=\"scale(0.015625)\"/>\n       <path d=\"M 3513 2113 \nL 3513 0 \nL 2938 0 \nL 2938 2094 \nQ 2938 2591 2744 2837 \nQ 2550 3084 2163 3084 \nQ 1697 3084 1428 2787 \nQ 1159 2491 1159 1978 \nL 1159 0 \nL 581 0 \nL 581 3500 \nL 1159 3500 \nL 1159 2956 \nQ 1366 3272 1645 3428 \nQ 1925 3584 2291 3584 \nQ 2894 3584 3203 3211 \nQ 3513 2838 3513 2113 \nz\n\" id=\"DejaVuSans-6e\" transform=\"scale(0.015625)\"/>\n      </defs>\n      <use xlink:href=\"#DejaVuSans-63\"/>\n      <use x=\"54.980469\" xlink:href=\"#DejaVuSans-6f\"/>\n      <use x=\"116.162109\" xlink:href=\"#DejaVuSans-75\"/>\n      <use x=\"179.541016\" xlink:href=\"#DejaVuSans-6e\"/>\n      <use x=\"242.919922\" xlink:href=\"#DejaVuSans-74\"/>\n     </g>\n    </g>\n   </g>\n   <g id=\"patch_3\">\n    <path clip-path=\"url(#pc3253a58fd)\" d=\"M 48.794489 195.758438 \nL 60.18358 195.758438 \nL 60.18358 183.216502 \nL 48.794489 183.216502 \nz\n\" style=\"fill:#008fd5;\"/>\n   </g>\n   <g id=\"patch_4\">\n    <path clip-path=\"url(#pc3253a58fd)\" d=\"M 60.18358 195.758438 \nL 71.57267 195.758438 \nL 71.57267 168.882861 \nL 60.18358 168.882861 \nz\n\" style=\"fill:#008fd5;\"/>\n   </g>\n   <g id=\"patch_5\">\n    <path clip-path=\"url(#pc3253a58fd)\" d=\"M 71.57267 195.758438 \nL 82.961761 195.758438 \nL 82.961761 143.79899 \nL 71.57267 143.79899 \nz\n\" style=\"fill:#008fd5;\"/>\n   </g>\n   <g id=\"patch_6\">\n    <path clip-path=\"url(#pc3253a58fd)\" d=\"M 82.961761 195.758438 \nL 94.350852 195.758438 \nL 94.350852 142.007285 \nL 82.961761 142.007285 \nz\n\" style=\"fill:#008fd5;\"/>\n   </g>\n   <g id=\"patch_7\">\n    <path clip-path=\"url(#pc3253a58fd)\" d=\"M 94.350852 195.758438 \nL 105.739943 195.758438 \nL 105.739943 82.881018 \nL 94.350852 82.881018 \nz\n\" style=\"fill:#008fd5;\"/>\n   </g>\n   <g id=\"patch_8\">\n    <path clip-path=\"url(#pc3253a58fd)\" d=\"M 105.739943 195.758438 \nL 117.129034 195.758438 \nL 117.129034 107.964889 \nL 105.739943 107.964889 \nz\n\" style=\"fill:#008fd5;\"/>\n   </g>\n   <g id=\"patch_9\">\n    <path clip-path=\"url(#pc3253a58fd)\" d=\"M 117.129034 195.758438 \nL 128.518125 195.758438 \nL 128.518125 100.798069 \nL 117.129034 100.798069 \nz\n\" style=\"fill:#008fd5;\"/>\n   </g>\n   <g id=\"patch_10\">\n    <path clip-path=\"url(#pc3253a58fd)\" d=\"M 128.518125 195.758438 \nL 139.907216 195.758438 \nL 139.907216 84.672723 \nL 128.518125 84.672723 \nz\n\" style=\"fill:#008fd5;\"/>\n   </g>\n   <g id=\"patch_11\">\n    <path clip-path=\"url(#pc3253a58fd)\" d=\"M 139.907216 195.758438 \nL 151.296307 195.758438 \nL 151.296307 86.464428 \nL 139.907216 86.464428 \nz\n\" style=\"fill:#008fd5;\"/>\n   </g>\n   <g id=\"patch_12\">\n    <path clip-path=\"url(#pc3253a58fd)\" d=\"M 151.296307 195.758438 \nL 162.685398 195.758438 \nL 162.685398 93.631249 \nL 151.296307 93.631249 \nz\n\" style=\"fill:#008fd5;\"/>\n   </g>\n   <g id=\"patch_13\">\n    <path clip-path=\"url(#pc3253a58fd)\" d=\"M 162.685398 195.758438 \nL 174.074489 195.758438 \nL 174.074489 48.838622 \nL 162.685398 48.838622 \nz\n\" style=\"fill:#008fd5;\"/>\n   </g>\n   <g id=\"patch_14\">\n    <path clip-path=\"url(#pc3253a58fd)\" d=\"M 174.074489 195.758438 \nL 185.46358 195.758438 \nL 185.46358 84.672723 \nL 174.074489 84.672723 \nz\n\" style=\"fill:#008fd5;\"/>\n   </g>\n   <g id=\"patch_15\">\n    <path clip-path=\"url(#pc3253a58fd)\" d=\"M 185.46358 195.758438 \nL 196.85267 195.758438 \nL 196.85267 29.129866 \nL 185.46358 29.129866 \nz\n\" style=\"fill:#008fd5;\"/>\n   </g>\n   <g id=\"patch_16\">\n    <path clip-path=\"url(#pc3253a58fd)\" d=\"M 196.85267 195.758438 \nL 208.241761 195.758438 \nL 208.241761 72.130788 \nL 196.85267 72.130788 \nz\n\" style=\"fill:#008fd5;\"/>\n   </g>\n   <g id=\"patch_17\">\n    <path clip-path=\"url(#pc3253a58fd)\" d=\"M 208.241761 195.758438 \nL 219.630852 195.758438 \nL 219.630852 86.464428 \nL 208.241761 86.464428 \nz\n\" style=\"fill:#008fd5;\"/>\n   </g>\n   <g id=\"patch_18\">\n    <path clip-path=\"url(#pc3253a58fd)\" d=\"M 219.630852 195.758438 \nL 231.019943 195.758438 \nL 231.019943 86.464428 \nL 219.630852 86.464428 \nz\n\" style=\"fill:#008fd5;\"/>\n   </g>\n   <g id=\"patch_19\">\n    <path clip-path=\"url(#pc3253a58fd)\" d=\"M 231.019943 195.758438 \nL 242.409034 195.758438 \nL 242.409034 81.089313 \nL 231.019943 81.089313 \nz\n\" style=\"fill:#008fd5;\"/>\n   </g>\n   <g id=\"patch_20\">\n    <path clip-path=\"url(#pc3253a58fd)\" d=\"M 242.409034 195.758438 \nL 253.798125 195.758438 \nL 253.798125 75.714198 \nL 242.409034 75.714198 \nz\n\" style=\"fill:#008fd5;\"/>\n   </g>\n   <g id=\"patch_21\">\n    <path clip-path=\"url(#pc3253a58fd)\" d=\"M 253.798125 195.758438 \nL 265.187216 195.758438 \nL 265.187216 107.964889 \nL 253.798125 107.964889 \nz\n\" style=\"fill:#008fd5;\"/>\n   </g>\n   <g id=\"patch_22\">\n    <path clip-path=\"url(#pc3253a58fd)\" d=\"M 265.187216 195.758438 \nL 276.576307 195.758438 \nL 276.576307 82.881018 \nL 265.187216 82.881018 \nz\n\" style=\"fill:#008fd5;\"/>\n   </g>\n   <g id=\"patch_23\">\n    <path clip-path=\"url(#pc3253a58fd)\" d=\"M 276.576307 195.758438 \nL 287.965398 195.758438 \nL 287.965398 91.839543 \nL 276.576307 91.839543 \nz\n\" style=\"fill:#008fd5;\"/>\n   </g>\n   <g id=\"patch_24\">\n    <path clip-path=\"url(#pc3253a58fd)\" d=\"M 287.965398 195.758438 \nL 299.354489 195.758438 \nL 299.354489 142.007285 \nL 287.965398 142.007285 \nz\n\" style=\"fill:#008fd5;\"/>\n   </g>\n   <g id=\"patch_25\">\n    <path clip-path=\"url(#pc3253a58fd)\" d=\"M 299.354489 195.758438 \nL 310.74358 195.758438 \nL 310.74358 150.965811 \nL 299.354489 150.965811 \nz\n\" style=\"fill:#008fd5;\"/>\n   </g>\n   <g id=\"patch_26\">\n    <path clip-path=\"url(#pc3253a58fd)\" d=\"M 310.74358 195.758438 \nL 322.13267 195.758438 \nL 322.13267 168.882861 \nL 310.74358 168.882861 \nz\n\" style=\"fill:#008fd5;\"/>\n   </g>\n   <g id=\"patch_27\">\n    <path clip-path=\"url(#pc3253a58fd)\" d=\"M 322.13267 195.758438 \nL 333.521761 195.758438 \nL 333.521761 186.799912 \nL 322.13267 186.799912 \nz\n\" style=\"fill:#008fd5;\"/>\n   </g>\n   <g id=\"patch_28\">\n    <path d=\"M 34.558125 195.758438 \nL 34.558125 20.798437 \n\" style=\"fill:none;stroke:#f0f0f0;stroke-linecap:square;stroke-linejoin:miter;stroke-width:3;\"/>\n   </g>\n   <g id=\"patch_29\">\n    <path d=\"M 347.758125 195.758438 \nL 347.758125 20.798437 \n\" style=\"fill:none;stroke:#f0f0f0;stroke-linecap:square;stroke-linejoin:miter;stroke-width:3;\"/>\n   </g>\n   <g id=\"patch_30\">\n    <path d=\"M 34.558125 195.758438 \nL 347.758125 195.758438 \n\" style=\"fill:none;stroke:#f0f0f0;stroke-linecap:square;stroke-linejoin:miter;stroke-width:3;\"/>\n   </g>\n   <g id=\"patch_31\">\n    <path d=\"M 34.558125 20.798437 \nL 347.758125 20.798437 \n\" style=\"fill:none;stroke:#f0f0f0;stroke-linecap:square;stroke-linejoin:miter;stroke-width:3;\"/>\n   </g>\n   <g id=\"text_12\">\n    <!-- Distribution of prediction probabilities -->\n    <g transform=\"translate(19.622812 14.798437)scale(0.1 -0.1)\">\n     <defs>\n      <path d=\"M 1791 3756 \nL 1791 909 \nL 2222 909 \nQ 2959 909 3348 1275 \nQ 3738 1641 3738 2338 \nQ 3738 3031 3350 3393 \nQ 2963 3756 2222 3756 \nL 1791 3756 \nz\nM 588 4666 \nL 1856 4666 \nQ 2919 4666 3439 4514 \nQ 3959 4363 4331 4000 \nQ 4659 3684 4818 3271 \nQ 4978 2859 4978 2338 \nQ 4978 1809 4818 1395 \nQ 4659 981 4331 666 \nQ 3956 303 3431 151 \nQ 2906 0 1856 0 \nL 588 0 \nL 588 4666 \nz\n\" id=\"DejaVuSans-Bold-44\" transform=\"scale(0.015625)\"/>\n      <path d=\"M 538 3500 \nL 1656 3500 \nL 1656 0 \nL 538 0 \nL 538 3500 \nz\nM 538 4863 \nL 1656 4863 \nL 1656 3950 \nL 538 3950 \nL 538 4863 \nz\n\" id=\"DejaVuSans-Bold-69\" transform=\"scale(0.015625)\"/>\n      <path d=\"M 3272 3391 \nL 3272 2541 \nQ 2913 2691 2578 2766 \nQ 2244 2841 1947 2841 \nQ 1628 2841 1473 2761 \nQ 1319 2681 1319 2516 \nQ 1319 2381 1436 2309 \nQ 1553 2238 1856 2203 \nL 2053 2175 \nQ 2913 2066 3209 1816 \nQ 3506 1566 3506 1031 \nQ 3506 472 3093 190 \nQ 2681 -91 1863 -91 \nQ 1516 -91 1145 -36 \nQ 775 19 384 128 \nL 384 978 \nQ 719 816 1070 734 \nQ 1422 653 1784 653 \nQ 2113 653 2278 743 \nQ 2444 834 2444 1013 \nQ 2444 1163 2330 1236 \nQ 2216 1309 1875 1350 \nL 1678 1375 \nQ 931 1469 631 1722 \nQ 331 1975 331 2491 \nQ 331 3047 712 3315 \nQ 1094 3584 1881 3584 \nQ 2191 3584 2531 3537 \nQ 2872 3491 3272 3391 \nz\n\" id=\"DejaVuSans-Bold-73\" transform=\"scale(0.015625)\"/>\n      <path d=\"M 1759 4494 \nL 1759 3500 \nL 2913 3500 \nL 2913 2700 \nL 1759 2700 \nL 1759 1216 \nQ 1759 972 1856 886 \nQ 1953 800 2241 800 \nL 2816 800 \nL 2816 0 \nL 1856 0 \nQ 1194 0 917 276 \nQ 641 553 641 1216 \nL 641 2700 \nL 84 2700 \nL 84 3500 \nL 641 3500 \nL 641 4494 \nL 1759 4494 \nz\n\" id=\"DejaVuSans-Bold-74\" transform=\"scale(0.015625)\"/>\n      <path d=\"M 3138 2547 \nQ 2991 2616 2845 2648 \nQ 2700 2681 2553 2681 \nQ 2122 2681 1889 2404 \nQ 1656 2128 1656 1613 \nL 1656 0 \nL 538 0 \nL 538 3500 \nL 1656 3500 \nL 1656 2925 \nQ 1872 3269 2151 3426 \nQ 2431 3584 2822 3584 \nQ 2878 3584 2943 3579 \nQ 3009 3575 3134 3559 \nL 3138 2547 \nz\n\" id=\"DejaVuSans-Bold-72\" transform=\"scale(0.015625)\"/>\n      <path d=\"M 2400 722 \nQ 2759 722 2948 984 \nQ 3138 1247 3138 1747 \nQ 3138 2247 2948 2509 \nQ 2759 2772 2400 2772 \nQ 2041 2772 1848 2508 \nQ 1656 2244 1656 1747 \nQ 1656 1250 1848 986 \nQ 2041 722 2400 722 \nz\nM 1656 2988 \nQ 1888 3294 2169 3439 \nQ 2450 3584 2816 3584 \nQ 3463 3584 3878 3070 \nQ 4294 2556 4294 1747 \nQ 4294 938 3878 423 \nQ 3463 -91 2816 -91 \nQ 2450 -91 2169 54 \nQ 1888 200 1656 506 \nL 1656 0 \nL 538 0 \nL 538 4863 \nL 1656 4863 \nL 1656 2988 \nz\n\" id=\"DejaVuSans-Bold-62\" transform=\"scale(0.015625)\"/>\n      <path d=\"M 500 1363 \nL 500 3500 \nL 1625 3500 \nL 1625 3150 \nQ 1625 2866 1622 2436 \nQ 1619 2006 1619 1863 \nQ 1619 1441 1641 1255 \nQ 1663 1069 1716 984 \nQ 1784 875 1895 815 \nQ 2006 756 2150 756 \nQ 2500 756 2700 1025 \nQ 2900 1294 2900 1772 \nL 2900 3500 \nL 4019 3500 \nL 4019 0 \nL 2900 0 \nL 2900 506 \nQ 2647 200 2364 54 \nQ 2081 -91 1741 -91 \nQ 1134 -91 817 281 \nQ 500 653 500 1363 \nz\n\" id=\"DejaVuSans-Bold-75\" transform=\"scale(0.015625)\"/>\n      <path d=\"M 2203 2784 \nQ 1831 2784 1636 2517 \nQ 1441 2250 1441 1747 \nQ 1441 1244 1636 976 \nQ 1831 709 2203 709 \nQ 2569 709 2762 976 \nQ 2956 1244 2956 1747 \nQ 2956 2250 2762 2517 \nQ 2569 2784 2203 2784 \nz\nM 2203 3584 \nQ 3106 3584 3614 3096 \nQ 4122 2609 4122 1747 \nQ 4122 884 3614 396 \nQ 3106 -91 2203 -91 \nQ 1297 -91 786 396 \nQ 275 884 275 1747 \nQ 275 2609 786 3096 \nQ 1297 3584 2203 3584 \nz\n\" id=\"DejaVuSans-Bold-6f\" transform=\"scale(0.015625)\"/>\n      <path d=\"M 4056 2131 \nL 4056 0 \nL 2931 0 \nL 2931 347 \nL 2931 1631 \nQ 2931 2084 2911 2256 \nQ 2891 2428 2841 2509 \nQ 2775 2619 2662 2680 \nQ 2550 2741 2406 2741 \nQ 2056 2741 1856 2470 \nQ 1656 2200 1656 1722 \nL 1656 0 \nL 538 0 \nL 538 3500 \nL 1656 3500 \nL 1656 2988 \nQ 1909 3294 2193 3439 \nQ 2478 3584 2822 3584 \nQ 3428 3584 3742 3212 \nQ 4056 2841 4056 2131 \nz\n\" id=\"DejaVuSans-Bold-6e\" transform=\"scale(0.015625)\"/>\n      <path id=\"DejaVuSans-Bold-20\" transform=\"scale(0.015625)\"/>\n      <path d=\"M 2841 4863 \nL 2841 4128 \nL 2222 4128 \nQ 1984 4128 1890 4042 \nQ 1797 3956 1797 3744 \nL 1797 3500 \nL 2753 3500 \nL 2753 2700 \nL 1797 2700 \nL 1797 0 \nL 678 0 \nL 678 2700 \nL 122 2700 \nL 122 3500 \nL 678 3500 \nL 678 3744 \nQ 678 4316 997 4589 \nQ 1316 4863 1984 4863 \nL 2841 4863 \nz\n\" id=\"DejaVuSans-Bold-66\" transform=\"scale(0.015625)\"/>\n      <path d=\"M 1656 506 \nL 1656 -1331 \nL 538 -1331 \nL 538 3500 \nL 1656 3500 \nL 1656 2988 \nQ 1888 3294 2169 3439 \nQ 2450 3584 2816 3584 \nQ 3463 3584 3878 3070 \nQ 4294 2556 4294 1747 \nQ 4294 938 3878 423 \nQ 3463 -91 2816 -91 \nQ 2450 -91 2169 54 \nQ 1888 200 1656 506 \nz\nM 2400 2772 \nQ 2041 2772 1848 2508 \nQ 1656 2244 1656 1747 \nQ 1656 1250 1848 986 \nQ 2041 722 2400 722 \nQ 2759 722 2948 984 \nQ 3138 1247 3138 1747 \nQ 3138 2247 2948 2509 \nQ 2759 2772 2400 2772 \nz\n\" id=\"DejaVuSans-Bold-70\" transform=\"scale(0.015625)\"/>\n      <path d=\"M 4031 1759 \nL 4031 1441 \nL 1416 1441 \nQ 1456 1047 1700 850 \nQ 1944 653 2381 653 \nQ 2734 653 3104 758 \nQ 3475 863 3866 1075 \nL 3866 213 \nQ 3469 63 3072 -14 \nQ 2675 -91 2278 -91 \nQ 1328 -91 801 392 \nQ 275 875 275 1747 \nQ 275 2603 792 3093 \nQ 1309 3584 2216 3584 \nQ 3041 3584 3536 3087 \nQ 4031 2591 4031 1759 \nz\nM 2881 2131 \nQ 2881 2450 2695 2645 \nQ 2509 2841 2209 2841 \nQ 1884 2841 1681 2658 \nQ 1478 2475 1428 2131 \nL 2881 2131 \nz\n\" id=\"DejaVuSans-Bold-65\" transform=\"scale(0.015625)\"/>\n      <path d=\"M 2919 2988 \nL 2919 4863 \nL 4044 4863 \nL 4044 0 \nL 2919 0 \nL 2919 506 \nQ 2688 197 2409 53 \nQ 2131 -91 1766 -91 \nQ 1119 -91 703 423 \nQ 288 938 288 1747 \nQ 288 2556 703 3070 \nQ 1119 3584 1766 3584 \nQ 2128 3584 2408 3439 \nQ 2688 3294 2919 2988 \nz\nM 2181 722 \nQ 2541 722 2730 984 \nQ 2919 1247 2919 1747 \nQ 2919 2247 2730 2509 \nQ 2541 2772 2181 2772 \nQ 1825 2772 1636 2509 \nQ 1447 2247 1447 1747 \nQ 1447 1247 1636 984 \nQ 1825 722 2181 722 \nz\n\" id=\"DejaVuSans-Bold-64\" transform=\"scale(0.015625)\"/>\n      <path d=\"M 3366 3391 \nL 3366 2478 \nQ 3138 2634 2908 2709 \nQ 2678 2784 2431 2784 \nQ 1963 2784 1702 2511 \nQ 1441 2238 1441 1747 \nQ 1441 1256 1702 982 \nQ 1963 709 2431 709 \nQ 2694 709 2930 787 \nQ 3166 866 3366 1019 \nL 3366 103 \nQ 3103 6 2833 -42 \nQ 2563 -91 2291 -91 \nQ 1344 -91 809 395 \nQ 275 881 275 1747 \nQ 275 2613 809 3098 \nQ 1344 3584 2291 3584 \nQ 2566 3584 2833 3536 \nQ 3100 3488 3366 3391 \nz\n\" id=\"DejaVuSans-Bold-63\" transform=\"scale(0.015625)\"/>\n      <path d=\"M 2106 1575 \nQ 1756 1575 1579 1456 \nQ 1403 1338 1403 1106 \nQ 1403 894 1545 773 \nQ 1688 653 1941 653 \nQ 2256 653 2472 879 \nQ 2688 1106 2688 1447 \nL 2688 1575 \nL 2106 1575 \nz\nM 3816 1997 \nL 3816 0 \nL 2688 0 \nL 2688 519 \nQ 2463 200 2181 54 \nQ 1900 -91 1497 -91 \nQ 953 -91 614 226 \nQ 275 544 275 1050 \nQ 275 1666 698 1953 \nQ 1122 2241 2028 2241 \nL 2688 2241 \nL 2688 2328 \nQ 2688 2594 2478 2717 \nQ 2269 2841 1825 2841 \nQ 1466 2841 1156 2769 \nQ 847 2697 581 2553 \nL 581 3406 \nQ 941 3494 1303 3539 \nQ 1666 3584 2028 3584 \nQ 2975 3584 3395 3211 \nQ 3816 2838 3816 1997 \nz\n\" id=\"DejaVuSans-Bold-61\" transform=\"scale(0.015625)\"/>\n      <path d=\"M 538 4863 \nL 1656 4863 \nL 1656 0 \nL 538 0 \nL 538 4863 \nz\n\" id=\"DejaVuSans-Bold-6c\" transform=\"scale(0.015625)\"/>\n     </defs>\n     <use xlink:href=\"#DejaVuSans-Bold-44\"/>\n     <use x=\"83.007812\" xlink:href=\"#DejaVuSans-Bold-69\"/>\n     <use x=\"117.285156\" xlink:href=\"#DejaVuSans-Bold-73\"/>\n     <use x=\"176.806641\" xlink:href=\"#DejaVuSans-Bold-74\"/>\n     <use x=\"224.609375\" xlink:href=\"#DejaVuSans-Bold-72\"/>\n     <use x=\"273.925781\" xlink:href=\"#DejaVuSans-Bold-69\"/>\n     <use x=\"308.203125\" xlink:href=\"#DejaVuSans-Bold-62\"/>\n     <use x=\"379.785156\" xlink:href=\"#DejaVuSans-Bold-75\"/>\n     <use x=\"450.976562\" xlink:href=\"#DejaVuSans-Bold-74\"/>\n     <use x=\"498.779297\" xlink:href=\"#DejaVuSans-Bold-69\"/>\n     <use x=\"533.056641\" xlink:href=\"#DejaVuSans-Bold-6f\"/>\n     <use x=\"601.757812\" xlink:href=\"#DejaVuSans-Bold-6e\"/>\n     <use x=\"672.949219\" xlink:href=\"#DejaVuSans-Bold-20\"/>\n     <use x=\"707.763672\" xlink:href=\"#DejaVuSans-Bold-6f\"/>\n     <use x=\"776.464844\" xlink:href=\"#DejaVuSans-Bold-66\"/>\n     <use x=\"819.970703\" xlink:href=\"#DejaVuSans-Bold-20\"/>\n     <use x=\"854.785156\" xlink:href=\"#DejaVuSans-Bold-70\"/>\n     <use x=\"926.367188\" xlink:href=\"#DejaVuSans-Bold-72\"/>\n     <use x=\"975.683594\" xlink:href=\"#DejaVuSans-Bold-65\"/>\n     <use x=\"1043.505859\" xlink:href=\"#DejaVuSans-Bold-64\"/>\n     <use x=\"1115.087891\" xlink:href=\"#DejaVuSans-Bold-69\"/>\n     <use x=\"1149.365234\" xlink:href=\"#DejaVuSans-Bold-63\"/>\n     <use x=\"1208.642578\" xlink:href=\"#DejaVuSans-Bold-74\"/>\n     <use x=\"1256.445312\" xlink:href=\"#DejaVuSans-Bold-69\"/>\n     <use x=\"1290.722656\" xlink:href=\"#DejaVuSans-Bold-6f\"/>\n     <use x=\"1359.423828\" xlink:href=\"#DejaVuSans-Bold-6e\"/>\n     <use x=\"1430.615234\" xlink:href=\"#DejaVuSans-Bold-20\"/>\n     <use x=\"1465.429688\" xlink:href=\"#DejaVuSans-Bold-70\"/>\n     <use x=\"1537.011719\" xlink:href=\"#DejaVuSans-Bold-72\"/>\n     <use x=\"1586.328125\" xlink:href=\"#DejaVuSans-Bold-6f\"/>\n     <use x=\"1655.029297\" xlink:href=\"#DejaVuSans-Bold-62\"/>\n     <use x=\"1726.611328\" xlink:href=\"#DejaVuSans-Bold-61\"/>\n     <use x=\"1794.091797\" xlink:href=\"#DejaVuSans-Bold-62\"/>\n     <use x=\"1865.673828\" xlink:href=\"#DejaVuSans-Bold-69\"/>\n     <use x=\"1899.951172\" xlink:href=\"#DejaVuSans-Bold-6c\"/>\n     <use x=\"1934.228516\" xlink:href=\"#DejaVuSans-Bold-69\"/>\n     <use x=\"1968.505859\" xlink:href=\"#DejaVuSans-Bold-74\"/>\n     <use x=\"2016.308594\" xlink:href=\"#DejaVuSans-Bold-69\"/>\n     <use x=\"2050.585938\" xlink:href=\"#DejaVuSans-Bold-65\"/>\n     <use x=\"2118.408203\" xlink:href=\"#DejaVuSans-Bold-73\"/>\n    </g>\n   </g>\n  </g>\n </g>\n <defs>\n  <clipPath id=\"pc3253a58fd\">\n   <rect height=\"174.96\" width=\"313.2\" x=\"34.558125\" y=\"20.798437\"/>\n  </clipPath>\n </defs>\n</svg>\n",
      "text/plain": [
       "<Figure size 360x216 with 1 Axes>"
      ]
     },
     "metadata": {},
     "output_type": "display_data"
    }
   ],
   "source": [
    "# Margin of Safety & NBA Upsets\n",
    "\n",
    "plt.figure(figsize = (5,3))\n",
    "plt.title(\"Distribution of prediction probabilities\", fontsize=10, fontweight=\"bold\", position = (0.3,1))\n",
    "plt.hist(df.predict_home_elo_win, bins=25);\n",
    "plt.xlabel('probability', fontsize=10)\n",
    "plt.ylabel('count', fontsize=10)\n",
    "plt.tick_params(labelsize=8)\n",
    "plt.grid(color='grey', linestyle='-', linewidth=0.25, alpha=0.5)\n",
    "# win probabilities are distributed about 50% but more parity than I expected"
   ]
  },
  {
   "cell_type": "code",
   "execution_count": 22,
   "metadata": {},
   "outputs": [
    {
     "data": {
      "text/html": [
       "<table border=\"1\" class=\"dataframe table table-responsive table-striped table-bordered\">\n",
       "  <thead>\n",
       "    <tr style=\"text-align: right;\">\n",
       "      <th></th>\n",
       "      <th>date</th>\n",
       "      <th>home</th>\n",
       "      <th>pts_home</th>\n",
       "      <th>home_elo</th>\n",
       "      <th>visitor</th>\n",
       "      <th>pts_visitor</th>\n",
       "      <th>visitor_elo</th>\n",
       "      <th>winner</th>\n",
       "      <th>y</th>\n",
       "      <th>predict_home_win</th>\n",
       "      <th>predict_home_elo_win</th>\n",
       "      <th>predict_elo</th>\n",
       "    </tr>\n",
       "  </thead>\n",
       "  <tbody>\n",
       "    <tr>\n",
       "      <th>4</th>\n",
       "      <td>2014-10-29</td>\n",
       "      <td>Hornets</td>\n",
       "      <td>108</td>\n",
       "      <td>1511.00</td>\n",
       "      <td>Bucks</td>\n",
       "      <td>106</td>\n",
       "      <td>1317.85</td>\n",
       "      <td>Hornets</td>\n",
       "      <td>1</td>\n",
       "      <td>1.00</td>\n",
       "      <td>0.75</td>\n",
       "      <td>Hornets</td>\n",
       "    </tr>\n",
       "    <tr>\n",
       "      <th>6</th>\n",
       "      <td>2014-10-29</td>\n",
       "      <td>Pacers</td>\n",
       "      <td>103</td>\n",
       "      <td>1532.67</td>\n",
       "      <td>Sixers</td>\n",
       "      <td>91</td>\n",
       "      <td>1316.42</td>\n",
       "      <td>Pacers</td>\n",
       "      <td>1</td>\n",
       "      <td>1.00</td>\n",
       "      <td>0.78</td>\n",
       "      <td>Pacers</td>\n",
       "    </tr>\n",
       "    <tr>\n",
       "      <th>10</th>\n",
       "      <td>2014-10-29</td>\n",
       "      <td>Suns</td>\n",
       "      <td>119</td>\n",
       "      <td>1560.12</td>\n",
       "      <td>Lakers</td>\n",
       "      <td>99</td>\n",
       "      <td>1410.66</td>\n",
       "      <td>Suns</td>\n",
       "      <td>1</td>\n",
       "      <td>1.00</td>\n",
       "      <td>0.70</td>\n",
       "      <td>Suns</td>\n",
       "    </tr>\n",
       "    <tr>\n",
       "      <th>16</th>\n",
       "      <td>2014-10-30</td>\n",
       "      <td>Mavericks</td>\n",
       "      <td>120</td>\n",
       "      <td>1590.40</td>\n",
       "      <td>Jazz</td>\n",
       "      <td>102</td>\n",
       "      <td>1367.04</td>\n",
       "      <td>Mavericks</td>\n",
       "      <td>1</td>\n",
       "      <td>1.00</td>\n",
       "      <td>0.78</td>\n",
       "      <td>Mavericks</td>\n",
       "    </tr>\n",
       "    <tr>\n",
       "      <th>29</th>\n",
       "      <td>2014-11-01</td>\n",
       "      <td>Warriors</td>\n",
       "      <td>127</td>\n",
       "      <td>1602.86</td>\n",
       "      <td>Lakers</td>\n",
       "      <td>104</td>\n",
       "      <td>1400.48</td>\n",
       "      <td>Warriors</td>\n",
       "      <td>1</td>\n",
       "      <td>1.00</td>\n",
       "      <td>0.76</td>\n",
       "      <td>Warriors</td>\n",
       "    </tr>\n",
       "  </tbody>\n",
       "</table>"
      ],
      "text/plain": [
       "<IPython.core.display.HTML object>"
      ]
     },
     "execution_count": 22,
     "metadata": {},
     "output_type": "execute_result"
    }
   ],
   "source": [
    "margin_of_safety = df[df.predict_home_elo_win > 0.70]\n",
    "HTML(margin_of_safety.head().to_html(classes=\"table table-responsive table-striped table-bordered\"))"
   ]
  },
  {
   "cell_type": "code",
   "execution_count": null,
   "metadata": {},
   "outputs": [],
   "source": []
  },
  {
   "cell_type": "code",
   "execution_count": null,
   "metadata": {},
   "outputs": [],
   "source": []
  },
  {
   "cell_type": "code",
   "execution_count": null,
   "metadata": {},
   "outputs": [],
   "source": []
  },
  {
   "cell_type": "code",
   "execution_count": null,
   "metadata": {},
   "outputs": [],
   "source": []
  },
  {
   "cell_type": "code",
   "execution_count": null,
   "metadata": {},
   "outputs": [],
   "source": []
  },
  {
   "cell_type": "code",
   "execution_count": null,
   "metadata": {},
   "outputs": [],
   "source": []
  },
  {
   "cell_type": "code",
   "execution_count": null,
   "metadata": {},
   "outputs": [],
   "source": []
  },
  {
   "cell_type": "code",
   "execution_count": null,
   "metadata": {},
   "outputs": [],
   "source": []
  },
  {
   "cell_type": "code",
   "execution_count": null,
   "metadata": {},
   "outputs": [],
   "source": []
  },
  {
   "cell_type": "code",
   "execution_count": null,
   "metadata": {},
   "outputs": [],
   "source": []
  },
  {
   "cell_type": "code",
   "execution_count": null,
   "metadata": {},
   "outputs": [],
   "source": []
  },
  {
   "cell_type": "code",
   "execution_count": null,
   "metadata": {},
   "outputs": [],
   "source": []
  },
  {
   "cell_type": "code",
   "execution_count": null,
   "metadata": {},
   "outputs": [],
   "source": []
  }
 ],
 "metadata": {
  "kernelspec": {
   "display_name": "Python 3.9.13 64-bit",
   "language": "python",
   "name": "python3"
  },
  "language_info": {
   "codemirror_mode": {
    "name": "ipython",
    "version": 3
   },
   "file_extension": ".py",
   "mimetype": "text/x-python",
   "name": "python",
   "nbconvert_exporter": "python",
   "pygments_lexer": "ipython3",
   "version": "3.9.13"
  },
  "orig_nbformat": 4,
  "vscode": {
   "interpreter": {
    "hash": "397704579725e15f5c7cb49fe5f0341eb7531c82d19f2c29d197e8b64ab5776b"
   }
  }
 },
 "nbformat": 4,
 "nbformat_minor": 2
}
