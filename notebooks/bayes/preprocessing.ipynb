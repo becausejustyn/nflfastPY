{
 "cells": [
  {
   "cell_type": "code",
   "execution_count": 1,
   "metadata": {},
   "outputs": [],
   "source": [
    "import os\n",
    "import numpy as np\n",
    "import pandas as pd\n",
    "import glob\n",
    "\n",
    "# !pip install tables"
   ]
  },
  {
   "cell_type": "code",
   "execution_count": 9,
   "metadata": {},
   "outputs": [],
   "source": [
    "source_folder = '/Users/justynrodrigues/Documents/nfl/data/pbp/csv/'\n",
    "all_files = glob.glob('/Users/justynrodrigues/Documents/nfl/data/pbp/csv/*.csv.gz')\n",
    "\n",
    "df = pd.concat((pd.read_csv(__, low_memory=False, index_col=False) for __ in all_files))"
   ]
  },
  {
   "cell_type": "code",
   "execution_count": 8,
   "metadata": {},
   "outputs": [],
   "source": [
    "#df.filter(regex='_type').columns\n",
    "#df = df.query(\"1 <= down <= 4\")"
   ]
  },
  {
   "cell_type": "code",
   "execution_count": 10,
   "metadata": {},
   "outputs": [],
   "source": [
    "# I am a coward so I am making a copy df just \"in case\"\n",
    "df1 = df.copy()\n",
    "df1 = df1.rename(columns={'time': 'play_time'}).query(\"1 <= down <= 4\")\n",
    "\n",
    "df1 = df1.assign(\n",
    "    game_date = pd.to_datetime(df1.game_date),\n",
    "    season_code = 'R' + df1.season.astype(str),\n",
    "    defteam_type = np.where(df1.posteam_type == 'away', df1.defteam, df1.posteam),\n",
    "    play_id2 = np.arange(len(df1)),\n",
    "    fourth_down = np.where(df1.down == 4, 1, 0),\n",
    "    fourth_down_attempt = np.where((df1.play_type.isin(['pass', 'run', 'qb_kneel', 'qb_spike'])) & (df1.down  == 4), 1, 0)\n",
    ")\n",
    "\n",
    "df1 = df1[['game_date', 'week', 'season', 'season_type', 'season_code', 'game_id', 'play_id', 'play_id2', 'qtr', 'drive', 'play_time', 'home_team', 'away_team', 'posteam',\n",
    "'posteam_type', 'defteam_type', 'play_type', 'down', 'ydstogo', 'yardline_100', 'field_goal_attempt', 'fourth_down', 'fourth_down_attempt', \n",
    "'fourth_down_converted', 'fourth_down_failed', 'penalty']]\n",
    "\n",
    "df1 = df1.dropna().reset_index()\n",
    "\n",
    "# fourth_down_conversions = df.is_fourth_down_converted.astype(int)\n",
    "# fourth_down_attempts = df.is_fourth_down_attempt.astype(int)"
   ]
  },
  {
   "cell_type": "code",
   "execution_count": 13,
   "metadata": {},
   "outputs": [],
   "source": [
    "df1.to_csv('data/pbp.csv', index=False)"
   ]
  },
  {
   "cell_type": "code",
   "execution_count": 2,
   "metadata": {},
   "outputs": [],
   "source": [
    "df1 = pd.read_csv('data/pbp.csv')"
   ]
  },
  {
   "cell_type": "code",
   "execution_count": null,
   "metadata": {},
   "outputs": [],
   "source": []
  },
  {
   "cell_type": "code",
   "execution_count": 11,
   "metadata": {},
   "outputs": [],
   "source": [
    "def summarize(df, grouping, cols):\n",
    "    df = df.groupby(grouping)[cols]\n",
    "    return df.sum().reset_index()\n",
    "\n",
    "def add_pct(df):\n",
    "    df['fourth_down_attempt_pct'] = df['fourth_down_attempt'] / df['fourth_down']\n",
    "    df['fourth_down_conversion_pct'] = df['fourth_down_converted'] / df['fourth_down_attempt']\n",
    "    return df\n",
    "\n",
    "metric_cols = ['fourth_down', 'fourth_down_attempt', 'fourth_down_converted']"
   ]
  },
  {
   "cell_type": "code",
   "execution_count": 12,
   "metadata": {},
   "outputs": [
    {
     "data": {
      "text/html": [
       "<div>\n",
       "<style scoped>\n",
       "    .dataframe tbody tr th:only-of-type {\n",
       "        vertical-align: middle;\n",
       "    }\n",
       "\n",
       "    .dataframe tbody tr th {\n",
       "        vertical-align: top;\n",
       "    }\n",
       "\n",
       "    .dataframe thead th {\n",
       "        text-align: right;\n",
       "    }\n",
       "</style>\n",
       "<table border=\"1\" class=\"dataframe\">\n",
       "  <thead>\n",
       "    <tr style=\"text-align: right;\">\n",
       "      <th></th>\n",
       "      <th>fourth_down</th>\n",
       "      <th>fourth_down_attempt</th>\n",
       "      <th>fourth_down_converted</th>\n",
       "      <th>fourth_down_attempt_pct</th>\n",
       "      <th>fourth_down_conversion_pct</th>\n",
       "    </tr>\n",
       "  </thead>\n",
       "  <tbody>\n",
       "    <tr>\n",
       "      <th>0</th>\n",
       "      <td>90926.0</td>\n",
       "      <td>11721.0</td>\n",
       "      <td>5790.0</td>\n",
       "      <td>0.128907</td>\n",
       "      <td>0.493985</td>\n",
       "    </tr>\n",
       "  </tbody>\n",
       "</table>\n",
       "</div>"
      ],
      "text/plain": [
       "   fourth_down  fourth_down_attempt  fourth_down_converted  \\\n",
       "0      90926.0              11721.0                 5790.0   \n",
       "\n",
       "   fourth_down_attempt_pct  fourth_down_conversion_pct  \n",
       "0                 0.128907                    0.493985  "
      ]
     },
     "execution_count": 12,
     "metadata": {},
     "output_type": "execute_result"
    }
   ],
   "source": [
    "df_summary = add_pct(pd.DataFrame(df1[metric_cols].sum()).T)\n",
    "df_summary"
   ]
  },
  {
   "cell_type": "code",
   "execution_count": 7,
   "metadata": {},
   "outputs": [
    {
     "data": {
      "text/plain": [
       "fourth_down_attempt\n",
       "0    872020\n",
       "dtype: int64"
      ]
     },
     "execution_count": 7,
     "metadata": {},
     "output_type": "execute_result"
    }
   ],
   "source": [
    "df1.value_counts('fourth_down_attempt')"
   ]
  },
  {
   "cell_type": "code",
   "execution_count": null,
   "metadata": {},
   "outputs": [],
   "source": []
  },
  {
   "cell_type": "code",
   "execution_count": 7,
   "metadata": {},
   "outputs": [],
   "source": []
  },
  {
   "cell_type": "code",
   "execution_count": null,
   "metadata": {},
   "outputs": [],
   "source": []
  },
  {
   "cell_type": "code",
   "execution_count": null,
   "metadata": {},
   "outputs": [],
   "source": []
  },
  {
   "cell_type": "code",
   "execution_count": null,
   "metadata": {},
   "outputs": [],
   "source": []
  },
  {
   "cell_type": "code",
   "execution_count": null,
   "metadata": {},
   "outputs": [],
   "source": []
  },
  {
   "cell_type": "code",
   "execution_count": null,
   "metadata": {},
   "outputs": [],
   "source": []
  }
 ],
 "metadata": {
  "kernelspec": {
   "display_name": "Python 3.9.13 64-bit",
   "language": "python",
   "name": "python3"
  },
  "language_info": {
   "codemirror_mode": {
    "name": "ipython",
    "version": 3
   },
   "file_extension": ".py",
   "mimetype": "text/x-python",
   "name": "python",
   "nbconvert_exporter": "python",
   "pygments_lexer": "ipython3",
   "version": "3.9.13"
  },
  "orig_nbformat": 4,
  "vscode": {
   "interpreter": {
    "hash": "397704579725e15f5c7cb49fe5f0341eb7531c82d19f2c29d197e8b64ab5776b"
   }
  }
 },
 "nbformat": 4,
 "nbformat_minor": 2
}
